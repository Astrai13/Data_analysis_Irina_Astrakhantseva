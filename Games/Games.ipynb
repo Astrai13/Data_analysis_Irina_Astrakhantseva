{
 "cells": [
  {
   "cell_type": "markdown",
   "metadata": {},
   "source": [
    "# Сборный проект - 1"
   ]
  },
  {
   "cell_type": "markdown",
   "metadata": {},
   "source": [
    "Из открытых источников доступны исторические данные о продажах игр, оценки пользователей и экспертов, жанры и платформы. \n",
    "\n",
    "Цель проекта: \n",
    "Необходимо выявить определяющие успешность игры закономерности, для того, чтобы сделать ставку на потенциально популярный продукт и спланировать рекламные кампании."
   ]
  },
  {
   "cell_type": "markdown",
   "metadata": {},
   "source": [
    "Шаг 1. Открыла файл с данными, изучила общую информацию"
   ]
  },
  {
   "cell_type": "code",
   "execution_count": 1,
   "metadata": {},
   "outputs": [
    {
     "data": {
      "text/html": [
       "<div>\n",
       "<style scoped>\n",
       "    .dataframe tbody tr th:only-of-type {\n",
       "        vertical-align: middle;\n",
       "    }\n",
       "\n",
       "    .dataframe tbody tr th {\n",
       "        vertical-align: top;\n",
       "    }\n",
       "\n",
       "    .dataframe thead th {\n",
       "        text-align: right;\n",
       "    }\n",
       "</style>\n",
       "<table border=\"1\" class=\"dataframe\">\n",
       "  <thead>\n",
       "    <tr style=\"text-align: right;\">\n",
       "      <th></th>\n",
       "      <th>Name</th>\n",
       "      <th>Platform</th>\n",
       "      <th>Year_of_Release</th>\n",
       "      <th>Genre</th>\n",
       "      <th>NA_sales</th>\n",
       "      <th>EU_sales</th>\n",
       "      <th>JP_sales</th>\n",
       "      <th>Other_sales</th>\n",
       "      <th>Critic_Score</th>\n",
       "      <th>User_Score</th>\n",
       "      <th>Rating</th>\n",
       "    </tr>\n",
       "  </thead>\n",
       "  <tbody>\n",
       "    <tr>\n",
       "      <th>0</th>\n",
       "      <td>Wii Sports</td>\n",
       "      <td>Wii</td>\n",
       "      <td>2006.0</td>\n",
       "      <td>Sports</td>\n",
       "      <td>41.36</td>\n",
       "      <td>28.96</td>\n",
       "      <td>3.77</td>\n",
       "      <td>8.45</td>\n",
       "      <td>76.0</td>\n",
       "      <td>8</td>\n",
       "      <td>E</td>\n",
       "    </tr>\n",
       "    <tr>\n",
       "      <th>1</th>\n",
       "      <td>Super Mario Bros.</td>\n",
       "      <td>NES</td>\n",
       "      <td>1985.0</td>\n",
       "      <td>Platform</td>\n",
       "      <td>29.08</td>\n",
       "      <td>3.58</td>\n",
       "      <td>6.81</td>\n",
       "      <td>0.77</td>\n",
       "      <td>NaN</td>\n",
       "      <td>NaN</td>\n",
       "      <td>NaN</td>\n",
       "    </tr>\n",
       "    <tr>\n",
       "      <th>2</th>\n",
       "      <td>Mario Kart Wii</td>\n",
       "      <td>Wii</td>\n",
       "      <td>2008.0</td>\n",
       "      <td>Racing</td>\n",
       "      <td>15.68</td>\n",
       "      <td>12.76</td>\n",
       "      <td>3.79</td>\n",
       "      <td>3.29</td>\n",
       "      <td>82.0</td>\n",
       "      <td>8.3</td>\n",
       "      <td>E</td>\n",
       "    </tr>\n",
       "    <tr>\n",
       "      <th>3</th>\n",
       "      <td>Wii Sports Resort</td>\n",
       "      <td>Wii</td>\n",
       "      <td>2009.0</td>\n",
       "      <td>Sports</td>\n",
       "      <td>15.61</td>\n",
       "      <td>10.93</td>\n",
       "      <td>3.28</td>\n",
       "      <td>2.95</td>\n",
       "      <td>80.0</td>\n",
       "      <td>8</td>\n",
       "      <td>E</td>\n",
       "    </tr>\n",
       "    <tr>\n",
       "      <th>4</th>\n",
       "      <td>Pokemon Red/Pokemon Blue</td>\n",
       "      <td>GB</td>\n",
       "      <td>1996.0</td>\n",
       "      <td>Role-Playing</td>\n",
       "      <td>11.27</td>\n",
       "      <td>8.89</td>\n",
       "      <td>10.22</td>\n",
       "      <td>1.00</td>\n",
       "      <td>NaN</td>\n",
       "      <td>NaN</td>\n",
       "      <td>NaN</td>\n",
       "    </tr>\n",
       "  </tbody>\n",
       "</table>\n",
       "</div>"
      ],
      "text/plain": [
       "                       Name Platform  Year_of_Release         Genre  NA_sales  \\\n",
       "0                Wii Sports      Wii           2006.0        Sports     41.36   \n",
       "1         Super Mario Bros.      NES           1985.0      Platform     29.08   \n",
       "2            Mario Kart Wii      Wii           2008.0        Racing     15.68   \n",
       "3         Wii Sports Resort      Wii           2009.0        Sports     15.61   \n",
       "4  Pokemon Red/Pokemon Blue       GB           1996.0  Role-Playing     11.27   \n",
       "\n",
       "   EU_sales  JP_sales  Other_sales  Critic_Score User_Score Rating  \n",
       "0     28.96      3.77         8.45          76.0          8      E  \n",
       "1      3.58      6.81         0.77           NaN        NaN    NaN  \n",
       "2     12.76      3.79         3.29          82.0        8.3      E  \n",
       "3     10.93      3.28         2.95          80.0          8      E  \n",
       "4      8.89     10.22         1.00           NaN        NaN    NaN  "
      ]
     },
     "execution_count": 1,
     "metadata": {},
     "output_type": "execute_result"
    }
   ],
   "source": [
    "import pandas as pd\n",
    "data = pd.read_csv('/.../....csv')\n",
    "data.head()"
   ]
  },
  {
   "cell_type": "code",
   "execution_count": 2,
   "metadata": {},
   "outputs": [
    {
     "name": "stdout",
     "output_type": "stream",
     "text": [
      "<class 'pandas.core.frame.DataFrame'>\n",
      "RangeIndex: 16715 entries, 0 to 16714\n",
      "Data columns (total 11 columns):\n",
      " #   Column           Non-Null Count  Dtype  \n",
      "---  ------           --------------  -----  \n",
      " 0   Name             16713 non-null  object \n",
      " 1   Platform         16715 non-null  object \n",
      " 2   Year_of_Release  16446 non-null  float64\n",
      " 3   Genre            16713 non-null  object \n",
      " 4   NA_sales         16715 non-null  float64\n",
      " 5   EU_sales         16715 non-null  float64\n",
      " 6   JP_sales         16715 non-null  float64\n",
      " 7   Other_sales      16715 non-null  float64\n",
      " 8   Critic_Score     8137 non-null   float64\n",
      " 9   User_Score       10014 non-null  object \n",
      " 10  Rating           9949 non-null   object \n",
      "dtypes: float64(6), object(5)\n",
      "memory usage: 1.4+ MB\n"
     ]
    }
   ],
   "source": [
    "data.info()"
   ]
  },
  {
   "cell_type": "markdown",
   "metadata": {},
   "source": [
    "Шаг 2. Подготовка данных"
   ]
  },
  {
   "cell_type": "code",
   "execution_count": 3,
   "metadata": {},
   "outputs": [],
   "source": [
    "#Заменила названия столбцов (привела к нижнему регистру)\n",
    "\n",
    "data.columns = data.columns.str.lower()"
   ]
  },
  {
   "cell_type": "code",
   "execution_count": 4,
   "metadata": {},
   "outputs": [
    {
     "data": {
      "text/plain": [
       "Index(['name', 'platform', 'year_of_release', 'genre', 'na_sales', 'eu_sales',\n",
       "       'jp_sales', 'other_sales', 'critic_score', 'user_score', 'rating'],\n",
       "      dtype='object')"
      ]
     },
     "execution_count": 4,
     "metadata": {},
     "output_type": "execute_result"
    }
   ],
   "source": [
    "#Проверим, изменились ли названия\n",
    "\n",
    "data.columns"
   ]
  },
  {
   "cell_type": "markdown",
   "metadata": {},
   "source": [
    "Проверим, есть ли пропуски."
   ]
  },
  {
   "cell_type": "code",
   "execution_count": 5,
   "metadata": {},
   "outputs": [
    {
     "name": "stdout",
     "output_type": "stream",
     "text": [
      "name                  2\n",
      "platform              0\n",
      "year_of_release     269\n",
      "genre                 2\n",
      "na_sales              0\n",
      "eu_sales              0\n",
      "jp_sales              0\n",
      "other_sales           0\n",
      "critic_score       8578\n",
      "user_score         6701\n",
      "rating             6766\n",
      "dtype: int64\n"
     ]
    }
   ],
   "source": [
    "print(data.isna().sum())"
   ]
  },
  {
   "cell_type": "markdown",
   "metadata": {},
   "source": [
    "Видно, что в следующих столбцах есть пустые значения:name, year_of_release, genre, critic_score, user_score, rating.\n",
    "\n",
    "Удалим строки с пустыми значениями для столбцов year_of_release, name, genre (вместе они составляют менее 2% от выборки).\n",
    "\n",
    "В столбцах critic_score, user_score строки с пустыми значениями трогать не будем, т.к. нет понимания, как рассчитывается этот ретинг и как правильно заменить пустые строки.\n",
    "\n",
    "В столбце rating вместо пустых значений поставим unknown."
   ]
  },
  {
   "cell_type": "code",
   "execution_count": 6,
   "metadata": {},
   "outputs": [],
   "source": [
    "#удалим 269 строк с пустым значением в year_of_release\n",
    "\n",
    "data = data.dropna(subset=['year_of_release'])\n",
    "\n",
    "#удалим 2 строки с пустым значением в name (пропуски в genre также удалятся)\n",
    "\n",
    "data = data.dropna(subset=['name'])\n",
    "data = data.reset_index(drop=True)\n",
    "\n",
    "#Заменим пустые ячейки в столбце rating на unknown\n",
    "\n",
    "data['rating'] = data['rating'].fillna('unknown')"
   ]
  },
  {
   "cell_type": "code",
   "execution_count": 7,
   "metadata": {},
   "outputs": [
    {
     "name": "stdout",
     "output_type": "stream",
     "text": [
      "name                  0\n",
      "platform              0\n",
      "year_of_release       0\n",
      "genre                 0\n",
      "na_sales              0\n",
      "eu_sales              0\n",
      "jp_sales              0\n",
      "other_sales           0\n",
      "critic_score       8461\n",
      "user_score         6605\n",
      "rating                0\n",
      "dtype: int64\n"
     ]
    }
   ],
   "source": [
    "print(data.isna().sum())"
   ]
  },
  {
   "cell_type": "code",
   "execution_count": 8,
   "metadata": {},
   "outputs": [
    {
     "data": {
      "text/plain": [
       "array(['8', nan, '8.3', '8.5', '6.6', '8.4', '8.6', '7.7', '6.3', '7.4',\n",
       "       '8.2', '9', '7.9', '8.1', '8.7', '7.1', '3.4', '5.3', '4.8', '3.2',\n",
       "       '8.9', '6.4', '7.8', '7.5', '2.6', '7.2', '9.2', '7', '7.3', '4.3',\n",
       "       '7.6', '5.7', '5', '9.1', '6.5', 'tbd', '8.8', '6.9', '9.4', '6.8',\n",
       "       '6.1', '6.7', '5.4', '4', '4.9', '4.5', '9.3', '6.2', '4.2', '6',\n",
       "       '3.7', '4.1', '5.8', '5.6', '5.5', '4.4', '4.6', '5.9', '3.9',\n",
       "       '3.1', '2.9', '5.2', '3.3', '4.7', '5.1', '3.5', '2.5', '1.9', '3',\n",
       "       '2.7', '2.2', '2', '9.5', '2.1', '3.6', '2.8', '1.8', '3.8', '0',\n",
       "       '1.6', '9.6', '2.4', '1.7', '1.1', '0.3', '1.5', '0.7', '1.2',\n",
       "       '2.3', '0.5', '1.3', '0.2', '0.6', '1.4', '0.9', '1', '9.7'],\n",
       "      dtype=object)"
      ]
     },
     "execution_count": 8,
     "metadata": {},
     "output_type": "execute_result"
    }
   ],
   "source": [
    "data['user_score'].unique()"
   ]
  },
  {
   "cell_type": "markdown",
   "metadata": {},
   "source": [
    "В столбце user_score есть значение \"tbd\" - скорее всего, это означает, что пользователь не внес данные,\n",
    "что равносильно не заполненным ячейкам. Поэтому заменим \"tbd\" на nan, для того, чтобы небыло путаницы в дальнейшем. "
   ]
  },
  {
   "cell_type": "code",
   "execution_count": 9,
   "metadata": {},
   "outputs": [],
   "source": [
    "data['user_score'] = data['user_score'].replace('tbd', )"
   ]
  },
  {
   "cell_type": "markdown",
   "metadata": {},
   "source": [
    "Для того, чтобы поменять тип данных в столбце user_score с object на float, заменим пропуски на 1000000, а потом вернем пропуски обратно."
   ]
  },
  {
   "cell_type": "code",
   "execution_count": 10,
   "metadata": {},
   "outputs": [],
   "source": [
    "data['user_score'] = data['user_score'].fillna(1000000)"
   ]
  },
  {
   "cell_type": "markdown",
   "metadata": {},
   "source": [
    "Преобразуем типы данных там, где это необходимо."
   ]
  },
  {
   "cell_type": "code",
   "execution_count": 11,
   "metadata": {},
   "outputs": [],
   "source": [
    "#Преобразуем year_of_release в datetime\n",
    "\n",
    "data['year_of_release'] = pd.to_datetime(data['year_of_release'], format='%Y')\n",
    "#data['year_of_release'] = data['year_of_release'].astype('int')\n",
    "\n",
    "#Преобразуем user_score в float\n",
    "\n",
    "data['user_score'] = data['user_score'].astype('float')"
   ]
  },
  {
   "cell_type": "code",
   "execution_count": 12,
   "metadata": {},
   "outputs": [
    {
     "name": "stdout",
     "output_type": "stream",
     "text": [
      "<class 'pandas.core.frame.DataFrame'>\n",
      "RangeIndex: 16444 entries, 0 to 16443\n",
      "Data columns (total 11 columns):\n",
      " #   Column           Non-Null Count  Dtype         \n",
      "---  ------           --------------  -----         \n",
      " 0   name             16444 non-null  object        \n",
      " 1   platform         16444 non-null  object        \n",
      " 2   year_of_release  16444 non-null  datetime64[ns]\n",
      " 3   genre            16444 non-null  object        \n",
      " 4   na_sales         16444 non-null  float64       \n",
      " 5   eu_sales         16444 non-null  float64       \n",
      " 6   jp_sales         16444 non-null  float64       \n",
      " 7   other_sales      16444 non-null  float64       \n",
      " 8   critic_score     7983 non-null   float64       \n",
      " 9   user_score       16444 non-null  float64       \n",
      " 10  rating           16444 non-null  object        \n",
      "dtypes: datetime64[ns](1), float64(6), object(4)\n",
      "memory usage: 1.4+ MB\n"
     ]
    }
   ],
   "source": [
    "#Убедимся, что типы данных поменялись\n",
    "\n",
    "data.info()"
   ]
  },
  {
   "cell_type": "code",
   "execution_count": 13,
   "metadata": {},
   "outputs": [],
   "source": [
    "data['user_score'] = data['user_score'].replace(1000000, )"
   ]
  },
  {
   "cell_type": "markdown",
   "metadata": {},
   "source": [
    "Посчитаем суммарные продажи по регионам и добавим новый столбец sales_total."
   ]
  },
  {
   "cell_type": "code",
   "execution_count": 14,
   "metadata": {},
   "outputs": [],
   "source": [
    "data['total_sales'] = data[['na_sales','eu_sales','jp_sales', 'other_sales']].sum(axis = 1)\n",
    "data['total_sales'] = data['total_sales'].astype('float')"
   ]
  },
  {
   "cell_type": "markdown",
   "metadata": {},
   "source": [
    "Шаг 3. Проведем исследовательский анализ данных"
   ]
  },
  {
   "cell_type": "markdown",
   "metadata": {},
   "source": [
    "Посмотрим, сколько игр выпускалось в разные годы."
   ]
  },
  {
   "cell_type": "code",
   "execution_count": 15,
   "metadata": {},
   "outputs": [
    {
     "data": {
      "image/png": "[encoded data removed]",
      "text/plain": [
       "<Figure size 1080x360 with 1 Axes>"
      ]
     },
     "metadata": {
      "needs_background": "light"
     },
     "output_type": "display_data"
    }
   ],
   "source": [
    "import matplotlib.pyplot as plt\n",
    "\n",
    "ax = data.pivot_table(index='year_of_release', values='total_sales', aggfunc = 'sum')\\\n",
    "    .plot(grid=True, figsize=(15, 5))\\\n",
    "    .set(title = 'Динамика кол-ва выпущенных игр по годам', xlabel = 'Года', ylabel = 'Кол-во выпущенных игр')\n"
   ]
  },
  {
   "cell_type": "markdown",
   "metadata": {},
   "source": [
    "Количество выпущенных игр очень различается в зависимости от года. Максимум был в 2008 и 2009 годах - потом начался спад.\n",
    "На мой взгляд, необходимо выбрать период с которым мы будем работать. Он должен быть близок к текущему и прогнозируемому, т.к. если взять например 1987 год - в нем были популярны совсем другие игры и продажи были гораздо ниже."
   ]
  },
  {
   "cell_type": "markdown",
   "metadata": {},
   "source": [
    "Посмотрим, как менялись продажи по платформам."
   ]
  },
  {
   "cell_type": "code",
   "execution_count": 57,
   "metadata": {},
   "outputs": [
    {
     "data": {
      "image/png": "[encoded data removed]",
      "text/plain": [
       "<Figure size 1080x360 with 1 Axes>"
      ]
     },
     "metadata": {
      "needs_background": "light"
     },
     "output_type": "display_data"
    }
   ],
   "source": [
    "ax = data.pivot_table(index='platform', values='total_sales', aggfunc = 'sum').reset_index()\\\n",
    "    .sort_values(by='total_sales', ascending=False)\\\n",
    "    .plot(x='platform', y='total_sales', grid=True, figsize=(15, 5), kind='bar')\\\n",
    "    .set(title = 'Распределение продаж игр по платформам', xlabel = 'Платформа', ylabel = 'Совокупные продажи')"
   ]
  },
  {
   "cell_type": "markdown",
   "metadata": {},
   "source": [
    "Для того, чтобы оценить жизненный цикл платформ, построим распределение по годам.\n",
    "Рассмотрим пример 4х поколений Play station - PS, PS2, PS3, PS4."
   ]
  },
  {
   "cell_type": "code",
   "execution_count": 56,
   "metadata": {},
   "outputs": [
    {
     "data": {
      "image/png": "[encoded data removed]",
      "text/plain": [
       "<Figure size 1080x360 with 1 Axes>"
      ]
     },
     "metadata": {
      "needs_background": "light"
     },
     "output_type": "display_data"
    }
   ],
   "source": [
    "ax = data.query('platform ==[\"PS2\", \"PS3\", \"PS\", \"PS4\"]')\\\n",
    "    .pivot_table(index='year_of_release', columns = 'platform', values='total_sales', aggfunc = 'sum')\\\n",
    "    .plot(grid=True, figsize=(15, 5))\\\n",
    "    .set(title = 'Динамика продаж игр по годам (Play station)', xlabel = 'Года', ylabel = 'Совокупные продажи')\n"
   ]
  },
  {
   "cell_type": "markdown",
   "metadata": {},
   "source": [
    "Видно, что жизненный цикл составляет 10 лет (срок от появления, до исчезновения)."
   ]
  },
  {
   "cell_type": "markdown",
   "metadata": {},
   "source": [
    "Аналогичный результат получим, если возьмем топ5 по уровню продаж."
   ]
  },
  {
   "cell_type": "code",
   "execution_count": 18,
   "metadata": {},
   "outputs": [
    {
     "data": {
      "image/png": "[encoded data removed]",
      "text/plain": [
       "<Figure size 1080x360 with 1 Axes>"
      ]
     },
     "metadata": {
      "needs_background": "light"
     },
     "output_type": "display_data"
    }
   ],
   "source": [
    "ax = data.query('platform ==[\"PS2\", \"PS3\", \"X360\", \"Wii\", \"DS\"]')\\\n",
    "    .pivot_table(index='year_of_release', columns = 'platform', values='total_sales', aggfunc = 'sum')\\\n",
    "    .plot(grid=True, figsize=(15, 5))\\\n",
    "    .set(title = 'Динамика продаж игр по годам (топ 5 платформ)', xlabel = 'Года', ylabel = 'Совокупные продажи')"
   ]
  },
  {
   "cell_type": "markdown",
   "metadata": {},
   "source": [
    "Видно, что их жизненный цикл составляет около 10 лет."
   ]
  },
  {
   "cell_type": "markdown",
   "metadata": {},
   "source": [
    "Выберем актуальный период, на котором будем проводить аналитику.\n",
    "Если посмотреть на динамику кол-ва выпущенных игр по годам видно, что начиная с 2008 года началось падение кол-ва выходящих видеоигр. Начиная с 2012 года видна стабилизация.\n",
    "Поэтому за актуальный период возьмем 2012 - 2015 год (2016 год учитывать не будем, т.к. скорее всего продажи по нему еще не полные)."
   ]
  },
  {
   "cell_type": "markdown",
   "metadata": {},
   "source": [
    "Выясним, какие платформы лидируют по продажам, растут или падают для актуального перида."
   ]
  },
  {
   "cell_type": "code",
   "execution_count": 54,
   "metadata": {},
   "outputs": [
    {
     "data": {
      "image/png": "[encoded data removed]",
      "text/plain": [
       "<Figure size 1080x360 with 1 Axes>"
      ]
     },
     "metadata": {
      "needs_background": "light"
     },
     "output_type": "display_data"
    }
   ],
   "source": [
    "#Сделаем распределение продаж по платформам для выбранного актуального перида - 2012 - 2015\n",
    "\n",
    "ax = data.query('\"2012\"<= year_of_release <=\"2015\"')\\\n",
    "     .pivot_table(index='platform', values='total_sales', aggfunc = 'sum').reset_index()\\\n",
    "     .sort_values(by='total_sales', ascending=False)\\\n",
    "     .plot(x='platform', y='total_sales', grid=True, figsize=(15, 5), kind='bar')\\\n",
    "     .set(title = 'Распределение продаж игр по платформам (2012-2015 г)', xlabel = 'Платформа', ylabel = 'Совокупные продажи')"
   ]
  },
  {
   "cell_type": "markdown",
   "metadata": {},
   "source": [
    "Видно, что за этот период есть продажи по 11 платформам. Возьмем 5 лидеров и проанализируем динамику их продаж, затем посмотрим на оставшиеся 6 платформ."
   ]
  },
  {
   "cell_type": "code",
   "execution_count": 20,
   "metadata": {},
   "outputs": [
    {
     "data": {
      "image/png": "[encoded data removed]",
      "text/plain": [
       "<Figure size 1080x360 with 1 Axes>"
      ]
     },
     "metadata": {
      "needs_background": "light"
     },
     "output_type": "display_data"
    }
   ],
   "source": [
    "#Топ 5 по продажам за период\n",
    "\n",
    "ax = data.query('platform ==[\"PS4\", \"PS3\", \"X360\", \"XOne\", \"3DS\"] and (\"2012\"<= year_of_release <=\"2015\")')\\\n",
    "    .pivot_table(index='year_of_release', columns = 'platform', values='total_sales', aggfunc = 'sum')\\\n",
    "    .plot(grid=True, figsize=(15, 5))\\\n",
    "    .set(title = 'Динамика продаж игр по годам (топ 5 платформ)', xlabel = 'Года', ylabel = 'Совокупные продажи')"
   ]
  },
  {
   "cell_type": "markdown",
   "metadata": {},
   "source": [
    "Судя по графику и опираясь на то, что жизненный цикл платформы составляет около 10 лет, то потенциально прибыльными можно считать платформы PS4 и xOne. Они будут продаваться еще около 7 лет. Остальные платформы из топ 5 за период демонстрируют спад продаж."
   ]
  },
  {
   "cell_type": "code",
   "execution_count": 21,
   "metadata": {},
   "outputs": [
    {
     "data": {
      "image/png": "[encoded data removed]",
      "text/plain": [
       "<Figure size 1080x360 with 1 Axes>"
      ]
     },
     "metadata": {
      "needs_background": "light"
     },
     "output_type": "display_data"
    }
   ],
   "source": [
    "# Рассмотрим остальные платформы\n",
    "\n",
    "ax = data.query('platform !=[\"PS4\", \"PS3\", \"X360\", \"XOne\", \"3DS\"] and (\"2012\"<= year_of_release <=\"2015\")')\\\n",
    "    .pivot_table(index='year_of_release', columns = 'platform', values='total_sales', aggfunc = 'sum')\\\n",
    "    .plot(grid=True, figsize=(15, 5))\\\n",
    "    .set(title = 'Динамика продаж игр по годам (остальные платформы)', xlabel = 'Года', ylabel = 'Совокупные продажи')"
   ]
  },
  {
   "cell_type": "markdown",
   "metadata": {},
   "source": [
    "Если рассматривать не топовые платформы, можно братить внимание на платформу WiiU - она вышла в 2012 году и имеет стабильную динамику продаж, которая может сохраняться еще несколько лет. Поэтому ее я также отнесла бы к потенциально прибыльной в своем сегменте."
   ]
  },
  {
   "cell_type": "markdown",
   "metadata": {},
   "source": [
    "Построим график «ящик с усами» по глобальным продажам игр в разбивке по потенциально прибыльным платформам."
   ]
  },
  {
   "cell_type": "code",
   "execution_count": 22,
   "metadata": {},
   "outputs": [
    {
     "data": {
      "text/plain": [
       "(0.0, 7.0)"
      ]
     },
     "execution_count": 22,
     "metadata": {},
     "output_type": "execute_result"
    },
    {
     "data": {
      "image/png": "[encoded data removed]",
      "text/plain": [
       "<Figure size 1080x576 with 1 Axes>"
      ]
     },
     "metadata": {
      "needs_background": "light"
     },
     "output_type": "display_data"
    }
   ],
   "source": [
    "ax = data.query('platform ==[\"PS4\", \"XOne\", \"WiiU\"] and (\"2012\"<= year_of_release <=\"2015\")')\\\n",
    "     .boxplot(column = 'total_sales', by = 'platform', figsize=(15, 8))\n",
    "\n",
    "plt.ylim(0,7)"
   ]
  },
  {
   "cell_type": "markdown",
   "metadata": {},
   "source": [
    "Рассмотрим ящики с усами:\n",
    " - Для всех платформ минимальное значение это 0, т.к. продажи не могут быть отрицательными.\n",
    " - Верхний заканчивается около 2,5 у PS4 и XOne и около 1,2 у WiiU  — это 1,5 межквартильного размаха, добавленного к 3-му квартилю. Это ориентировочная граница нормального размаха. Всё, что лежит за ней будем считать выбросами.\n",
    " - Медиана у PS4 и XOne - около 0,3, а у WiiU - около 0,2.\n",
    " - Т.к. зеленая линия стремится вниз, а не в сторону верхнего уса, можно сделать вывод, что выбросы - это достаточно редкое явление для всех платформ."
   ]
  },
  {
   "cell_type": "markdown",
   "metadata": {},
   "source": [
    "Посмотрим, как влияют на продажи внутри одной популярной платформы отзывы пользователей и критиков.\n",
    "Построим диаграмму рассеяния и посчитаем корреляцию между отзывами и продажами."
   ]
  },
  {
   "cell_type": "code",
   "execution_count": 23,
   "metadata": {},
   "outputs": [
    {
     "data": {
      "text/plain": [
       "Text(0, 0.5, 'Отзывы пользователей')"
      ]
     },
     "execution_count": 23,
     "metadata": {},
     "output_type": "execute_result"
    },
    {
     "data": {
      "image/png": "[encoded data removed]",
      "text/plain": [
       "<Figure size 1080x360 with 1 Axes>"
      ]
     },
     "metadata": {
      "needs_background": "light"
     },
     "output_type": "display_data"
    }
   ],
   "source": [
    "#Зависимость продаж платформы PS4 от отзывов пользователей\n",
    "\n",
    "(\n",
    "    data.query('platform ==\"PS4\" and (\"2012\"<= year_of_release <=\"2015\")')\n",
    "    .sort_values('user_score')\n",
    "    .plot(x='total_sales', y='user_score', kind='scatter', alpha=0.5, figsize=(15,5))\n",
    ") \n",
    "plt.title('Зависимость обьема продаж платформы PS4 от отзывов пользователей')\n",
    "plt.xlabel('Обьем продаж')\n",
    "plt.ylabel('Отзывы пользователей')"
   ]
  },
  {
   "cell_type": "code",
   "execution_count": 24,
   "metadata": {},
   "outputs": [
    {
     "data": {
      "text/plain": [
       "-0.028820146478203145"
      ]
     },
     "execution_count": 24,
     "metadata": {},
     "output_type": "execute_result"
    }
   ],
   "source": [
    "#Рассчитаем корреляцию между обьемом продаж и отзывами пользователей\n",
    "\n",
    "data_1 = data.query('platform ==\"PS4\" and (\"2012\"<= year_of_release <=\"2015\")')\n",
    "data_1['total_sales'].corr(data_1['user_score'])"
   ]
  },
  {
   "cell_type": "markdown",
   "metadata": {},
   "source": [
    "Как на графике, так и при рассчете корреляции видно, что зависимости нет."
   ]
  },
  {
   "cell_type": "code",
   "execution_count": 25,
   "metadata": {},
   "outputs": [
    {
     "data": {
      "text/plain": [
       "Text(0, 0.5, 'Отзывы критиков')"
      ]
     },
     "execution_count": 25,
     "metadata": {},
     "output_type": "execute_result"
    },
    {
     "data": {
      "image/png": "[encoded data removed]",
      "text/plain": [
       "<Figure size 1080x360 with 1 Axes>"
      ]
     },
     "metadata": {
      "needs_background": "light"
     },
     "output_type": "display_data"
    }
   ],
   "source": [
    "#Зависимость продаж платформы PS4 от отзывов критиков\n",
    "\n",
    "(\n",
    "    data.query('platform ==\"PS4\" and (\"2012\"<= year_of_release <=\"2015\")')\n",
    "    .sort_values('critic_score')\n",
    "    .plot(x='total_sales', y='critic_score', kind='scatter', alpha=0.5, figsize=(15,5))\n",
    ") \n",
    "plt.title('Зависимость обьема продаж платформы PS4 от отзывов критиков')\n",
    "plt.xlabel('Обьем продаж')\n",
    "plt.ylabel('Отзывы критиков')"
   ]
  },
  {
   "cell_type": "code",
   "execution_count": 26,
   "metadata": {},
   "outputs": [
    {
     "data": {
      "text/plain": [
       "0.4318482049982005"
      ]
     },
     "execution_count": 26,
     "metadata": {},
     "output_type": "execute_result"
    }
   ],
   "source": [
    "#Рассчитаем корреляцию между обьемом продаж и отзывами критиков\n",
    "\n",
    "data_1 = data.query('platform ==\"PS4\" and (\"2012\"<= year_of_release <=\"2015\")')\n",
    "data_1['total_sales'].corr(data_1['critic_score'])"
   ]
  },
  {
   "cell_type": "markdown",
   "metadata": {},
   "source": [
    "Как на графике, так и при рассчете корреляции видно, что зависимость есть, но не высокая."
   ]
  },
  {
   "cell_type": "code",
   "execution_count": 27,
   "metadata": {},
   "outputs": [
    {
     "data": {
      "text/plain": [
       "Text(0, 0.5, 'Отзывы пользователей')"
      ]
     },
     "execution_count": 27,
     "metadata": {},
     "output_type": "execute_result"
    },
    {
     "data": {
      "image/png": "[encoded data removed]",
      "text/plain": [
       "<Figure size 1080x360 with 1 Axes>"
      ]
     },
     "metadata": {
      "needs_background": "light"
     },
     "output_type": "display_data"
    }
   ],
   "source": [
    "#Зависимость продаж других потенциально прибыльных платформ от отзывов пользователей\n",
    "\n",
    "(\n",
    "    data.query('platform == [\"XOne\", \"WiiU\"] and (\"2012\"<= year_of_release <=\"2015\")')\n",
    "    .sort_values('user_score')\n",
    "    .plot(x='total_sales', y='user_score', kind='scatter', alpha=0.5, figsize=(15,5), by='platform')\n",
    ") \n",
    "plt.title('Зависимость обьема продаж платформ XOne и WiiU от отзывов пользователей')\n",
    "plt.xlabel('Обьем продаж')\n",
    "plt.ylabel('Отзывы пользователей')"
   ]
  },
  {
   "cell_type": "code",
   "execution_count": 28,
   "metadata": {},
   "outputs": [
    {
     "data": {
      "text/plain": [
       "0.16141618154008666"
      ]
     },
     "execution_count": 28,
     "metadata": {},
     "output_type": "execute_result"
    }
   ],
   "source": [
    "#Рассчитаем корреляцию между обьемом продаж и отзывами пользователей\n",
    "\n",
    "data_1 = data.query('platform ==[\"XOne\", \"WiiU\"] and (\"2012\"<= year_of_release <=\"2015\")')\n",
    "data_1['total_sales'].corr(data_1['user_score'])"
   ]
  },
  {
   "cell_type": "markdown",
   "metadata": {},
   "source": [
    "Видно, что корреляция отсутствует."
   ]
  },
  {
   "cell_type": "code",
   "execution_count": 29,
   "metadata": {},
   "outputs": [
    {
     "data": {
      "text/plain": [
       "Text(0, 0.5, 'Отзывы критиков')"
      ]
     },
     "execution_count": 29,
     "metadata": {},
     "output_type": "execute_result"
    },
    {
     "data": {
      "image/png": "[encoded data removed]",
      "text/plain": [
       "<Figure size 1080x360 with 1 Axes>"
      ]
     },
     "metadata": {
      "needs_background": "light"
     },
     "output_type": "display_data"
    }
   ],
   "source": [
    "#Зависимость продаж других потенциально прибыльных платформ от отзывов критиков\n",
    "\n",
    "(\n",
    "    data.query('platform ==[\"XOne\", \"WiiU\"] and (\"2012\"<= year_of_release <=\"2015\")')\n",
    "    .sort_values('critic_score')\n",
    "    .plot(x='total_sales', y='critic_score', kind='scatter', alpha=0.5, figsize=(15,5))\n",
    ") \n",
    "plt.title('Зависимость обьема продаж платформ XOne и WiiU от отзывов критиков')\n",
    "plt.xlabel('Обьем продаж')\n",
    "plt.ylabel('Отзывы критиков')"
   ]
  },
  {
   "cell_type": "code",
   "execution_count": 30,
   "metadata": {},
   "outputs": [
    {
     "data": {
      "text/plain": [
       "0.41397224738362337"
      ]
     },
     "execution_count": 30,
     "metadata": {},
     "output_type": "execute_result"
    }
   ],
   "source": [
    "#Рассчитаем корреляцию между обьемом продаж и отзывами критиков\n",
    "\n",
    "data_1 = data.query('platform ==[\"XOne\", \"WiiU\"] and (\"2012\"<= year_of_release <=\"2015\")')\n",
    "data_1['total_sales'].corr(data_1['critic_score'])"
   ]
  },
  {
   "cell_type": "markdown",
   "metadata": {},
   "source": [
    "Как на графике, так и при рассчете корреляции видно, что зависимость есть, но не высокая."
   ]
  },
  {
   "cell_type": "markdown",
   "metadata": {},
   "source": [
    "Можно сделать вывод, что как для выбранной платформы PS4, так и для других прибыльных платформ обьем продаж поожительно зависит от оценок критиков и не зависит от оценок пользователей."
   ]
  },
  {
   "cell_type": "markdown",
   "metadata": {},
   "source": [
    "Рассмотрим общее распределение игр по жанрам."
   ]
  },
  {
   "cell_type": "code",
   "execution_count": 31,
   "metadata": {},
   "outputs": [
    {
     "data": {
      "image/png": "[encoded data removed]",
      "text/plain": [
       "<Figure size 1080x360 with 1 Axes>"
      ]
     },
     "metadata": {
      "needs_background": "light"
     },
     "output_type": "display_data"
    }
   ],
   "source": [
    "#Сделаем распределение продаж по жанрам для выбранного актуального перида - 2012 - 2015\n",
    "\n",
    "ax = data.query('\"2012\"<= year_of_release <=\"2015\"')\\\n",
    "    .pivot_table(index='genre', values='total_sales', aggfunc = 'sum').reset_index()\\\n",
    "    .plot(x='genre', y='total_sales', grid=True, figsize=(15, 5), kind='bar')\\\n",
    "    .set(title = 'Распределение продаж игр по жанрам (2012-2015 г)', xlabel = 'Жанр', ylabel = 'total_sales')"
   ]
  },
  {
   "cell_type": "code",
   "execution_count": 59,
   "metadata": {},
   "outputs": [
    {
     "data": {
      "image/png": "[encoded data removed]",
      "text/plain": [
       "<Figure size 1080x360 with 1 Axes>"
      ]
     },
     "metadata": {
      "needs_background": "light"
     },
     "output_type": "display_data"
    }
   ],
   "source": [
    "#Сделаем распределение медиан продаж по жанрам для выбранного актуального перида - 2012 - 2015\n",
    "\n",
    "ax = data.query('\"2012\"<= year_of_release <=\"2015\"')\\\n",
    "    .pivot_table(index='genre', values='total_sales', aggfunc = 'median').reset_index()\\\n",
    "    .plot(x='genre', y='total_sales', grid=True, figsize=(15, 5), kind='bar')\\\n",
    "    .set(title = 'Распределение продаж игр по жанрам (2012-2015 г)', xlabel = 'Жанр', ylabel = 'total_sales')"
   ]
  },
  {
   "cell_type": "markdown",
   "metadata": {},
   "source": [
    "Шаг 4. Составим портрет пользователя каждого региона"
   ]
  },
  {
   "cell_type": "markdown",
   "metadata": {},
   "source": []
  },
  {
   "cell_type": "markdown",
   "metadata": {},
   "source": [
    "Определим для пользователя каждого региона (NA, EU, JP):\n",
    "Самые популярные платформы (топ-5)."
   ]
  },
  {
   "cell_type": "code",
   "execution_count": 32,
   "metadata": {},
   "outputs": [
    {
     "data": {
      "image/png": "[encoded data removed]",
      "text/plain": [
       "<Figure size 1080x360 with 1 Axes>"
      ]
     },
     "metadata": {
      "needs_background": "light"
     },
     "output_type": "display_data"
    }
   ],
   "source": [
    "#Сделаем распределение продаж региона NA по платформам для выбранного актуального перида - 2012 - 2015\n",
    "\n",
    "ax = data.query('\"2012\"<= year_of_release <=\"2015\"')\\\n",
    "    .pivot_table(index='platform', values='na_sales', aggfunc = 'sum').reset_index()\\\n",
    "    .plot(x='platform', y='na_sales', grid=True, figsize=(15, 5), kind='bar')\\\n",
    "    .set(title = 'Распределение продаж игр региона NA по платформам (2012-2015 г)', xlabel = 'Платформа', ylabel = 'Продажи региона NA')"
   ]
  },
  {
   "cell_type": "code",
   "execution_count": 33,
   "metadata": {},
   "outputs": [
    {
     "data": {
      "text/html": [
       "<style  type=\"text/css\" >\n",
       "</style><table id=\"T_fa572_\" ><thead>    <tr>        <th class=\"blank level0\" ></th>        <th class=\"col_heading level0 col0\" >Платформа</th>        <th class=\"col_heading level0 col1\" >Продажи региона NA</th>        <th class=\"col_heading level0 col2\" >Доля рынка,%</th>    </tr></thead><tbody>\n",
       "                <tr>\n",
       "                        <th id=\"T_fa572_level0_row0\" class=\"row_heading level0 row0\" >0</th>\n",
       "                        <td id=\"T_fa572_row0_col0\" class=\"data row0 col0\" >3DS</td>\n",
       "                        <td id=\"T_fa572_row0_col1\" class=\"data row0 col1\" >51.170000</td>\n",
       "                        <td id=\"T_fa572_row0_col2\" class=\"data row0 col2\" >9.4%</td>\n",
       "            </tr>\n",
       "            <tr>\n",
       "                        <th id=\"T_fa572_level0_row1\" class=\"row_heading level0 row1\" >1</th>\n",
       "                        <td id=\"T_fa572_row1_col0\" class=\"data row1 col0\" >DS</td>\n",
       "                        <td id=\"T_fa572_row1_col1\" class=\"data row1 col1\" >4.590000</td>\n",
       "                        <td id=\"T_fa572_row1_col2\" class=\"data row1 col2\" >0.8%</td>\n",
       "            </tr>\n",
       "            <tr>\n",
       "                        <th id=\"T_fa572_level0_row2\" class=\"row_heading level0 row2\" >2</th>\n",
       "                        <td id=\"T_fa572_row2_col0\" class=\"data row2 col0\" >PC</td>\n",
       "                        <td id=\"T_fa572_row2_col1\" class=\"data row2 col1\" >17.760000</td>\n",
       "                        <td id=\"T_fa572_row2_col2\" class=\"data row2 col2\" >3.3%</td>\n",
       "            </tr>\n",
       "            <tr>\n",
       "                        <th id=\"T_fa572_level0_row3\" class=\"row_heading level0 row3\" >3</th>\n",
       "                        <td id=\"T_fa572_row3_col0\" class=\"data row3 col0\" >PS3</td>\n",
       "                        <td id=\"T_fa572_row3_col1\" class=\"data row3 col1\" >102.710000</td>\n",
       "                        <td id=\"T_fa572_row3_col2\" class=\"data row3 col2\" >18.8%</td>\n",
       "            </tr>\n",
       "            <tr>\n",
       "                        <th id=\"T_fa572_level0_row4\" class=\"row_heading level0 row4\" >4</th>\n",
       "                        <td id=\"T_fa572_row4_col0\" class=\"data row4 col0\" >PS4</td>\n",
       "                        <td id=\"T_fa572_row4_col1\" class=\"data row4 col1\" >87.250000</td>\n",
       "                        <td id=\"T_fa572_row4_col2\" class=\"data row4 col2\" >16.0%</td>\n",
       "            </tr>\n",
       "            <tr>\n",
       "                        <th id=\"T_fa572_level0_row5\" class=\"row_heading level0 row5\" >5</th>\n",
       "                        <td id=\"T_fa572_row5_col0\" class=\"data row5 col0\" >PSP</td>\n",
       "                        <td id=\"T_fa572_row5_col1\" class=\"data row5 col1\" >0.130000</td>\n",
       "                        <td id=\"T_fa572_row5_col2\" class=\"data row5 col2\" >0.0%</td>\n",
       "            </tr>\n",
       "            <tr>\n",
       "                        <th id=\"T_fa572_level0_row6\" class=\"row_heading level0 row6\" >6</th>\n",
       "                        <td id=\"T_fa572_row6_col0\" class=\"data row6 col0\" >PSV</td>\n",
       "                        <td id=\"T_fa572_row6_col1\" class=\"data row6 col1\" >10.830000</td>\n",
       "                        <td id=\"T_fa572_row6_col2\" class=\"data row6 col2\" >2.0%</td>\n",
       "            </tr>\n",
       "            <tr>\n",
       "                        <th id=\"T_fa572_level0_row7\" class=\"row_heading level0 row7\" >7</th>\n",
       "                        <td id=\"T_fa572_row7_col0\" class=\"data row7 col0\" >Wii</td>\n",
       "                        <td id=\"T_fa572_row7_col1\" class=\"data row7 col1\" >17.390000</td>\n",
       "                        <td id=\"T_fa572_row7_col2\" class=\"data row7 col2\" >3.2%</td>\n",
       "            </tr>\n",
       "            <tr>\n",
       "                        <th id=\"T_fa572_level0_row8\" class=\"row_heading level0 row8\" >8</th>\n",
       "                        <td id=\"T_fa572_row8_col0\" class=\"data row8 col0\" >WiiU</td>\n",
       "                        <td id=\"T_fa572_row8_col1\" class=\"data row8 col1\" >36.000000</td>\n",
       "                        <td id=\"T_fa572_row8_col2\" class=\"data row8 col2\" >6.6%</td>\n",
       "            </tr>\n",
       "            <tr>\n",
       "                        <th id=\"T_fa572_level0_row9\" class=\"row_heading level0 row9\" >9</th>\n",
       "                        <td id=\"T_fa572_row9_col0\" class=\"data row9 col0\" >X360</td>\n",
       "                        <td id=\"T_fa572_row9_col1\" class=\"data row9 col1\" >139.360000</td>\n",
       "                        <td id=\"T_fa572_row9_col2\" class=\"data row9 col2\" >25.5%</td>\n",
       "            </tr>\n",
       "            <tr>\n",
       "                        <th id=\"T_fa572_level0_row10\" class=\"row_heading level0 row10\" >10</th>\n",
       "                        <td id=\"T_fa572_row10_col0\" class=\"data row10 col0\" >XOne</td>\n",
       "                        <td id=\"T_fa572_row10_col1\" class=\"data row10 col1\" >78.850000</td>\n",
       "                        <td id=\"T_fa572_row10_col2\" class=\"data row10 col2\" >14.4%</td>\n",
       "            </tr>\n",
       "    </tbody></table>"
      ],
      "text/plain": [
       "<pandas.io.formats.style.Styler at 0x7f77cd25bd60>"
      ]
     },
     "execution_count": 33,
     "metadata": {},
     "output_type": "execute_result"
    }
   ],
   "source": [
    "#Посчитаем доли рынка для каждой из платформ\n",
    "\n",
    "data_na = data.query('\"2012\"<= year_of_release <=\"2015\"')\\\n",
    "    .pivot_table(index='platform', values='na_sales', aggfunc = 'sum').reset_index()\n",
    "\n",
    "data_na['market_share_na'] = data_na['na_sales']/data_na['na_sales'].sum()\n",
    "data_na.columns = ['Платформа', 'Продажи региона NA', 'Доля рынка,%']\n",
    "data_na = data_na.style.format({'Доля рынка,%': '{:,.1%}'.format,})\n",
    "data_na\n",
    "    "
   ]
  },
  {
   "cell_type": "markdown",
   "metadata": {},
   "source": [
    "Топ5 самых популярных платформ для региона NA:\n",
    "\n",
    "X360 - 25,5%\n",
    "PS3 - 18,8%\n",
    "PS4 - 16%\n",
    "XOne - 14,4%\n",
    "3DS - 9,4%\n",
    "\n",
    "Т.к. в качестве перспективных для инвестиций мы веделили только PS4 и XOne из данного списка,\n",
    "то можно сделать вывод, что рекомендовать инвестору для региона NA можно и PS4 и XOne т.к. долю рынка они занимают примерно одинаковую."
   ]
  },
  {
   "cell_type": "code",
   "execution_count": 34,
   "metadata": {},
   "outputs": [
    {
     "data": {
      "image/png": "[encoded data removed]",
      "text/plain": [
       "<Figure size 1080x360 with 1 Axes>"
      ]
     },
     "metadata": {
      "needs_background": "light"
     },
     "output_type": "display_data"
    }
   ],
   "source": [
    "#Сделаем распределение продаж региона EU по платформам для выбранного актуального перида - 2012 - 2015\n",
    "\n",
    "ax = data.query('\"2012\"<= year_of_release <=\"2015\"')\\\n",
    "    .pivot_table(index='platform', values='eu_sales', aggfunc = 'sum').reset_index()\\\n",
    "    .plot(x='platform', y='eu_sales', grid=True, figsize=(15, 5), kind='bar')\\\n",
    "    .set(title = 'Распределение продаж игр региона EU по платформам (2012-2015 г)', xlabel = 'Платформа', ylabel = 'Продажи региона EU')"
   ]
  },
  {
   "cell_type": "code",
   "execution_count": 35,
   "metadata": {},
   "outputs": [
    {
     "data": {
      "text/html": [
       "<style  type=\"text/css\" >\n",
       "</style><table id=\"T_b659d_\" ><thead>    <tr>        <th class=\"blank level0\" ></th>        <th class=\"col_heading level0 col0\" >Платформа</th>        <th class=\"col_heading level0 col1\" >Продажи региона EU</th>        <th class=\"col_heading level0 col2\" >Доля рынка,%</th>    </tr></thead><tbody>\n",
       "                <tr>\n",
       "                        <th id=\"T_b659d_level0_row0\" class=\"row_heading level0 row0\" >0</th>\n",
       "                        <td id=\"T_b659d_row0_col0\" class=\"data row0 col0\" >3DS</td>\n",
       "                        <td id=\"T_b659d_row0_col1\" class=\"data row0 col1\" >40.310000</td>\n",
       "                        <td id=\"T_b659d_row0_col2\" class=\"data row0 col2\" >8.8%</td>\n",
       "            </tr>\n",
       "            <tr>\n",
       "                        <th id=\"T_b659d_level0_row1\" class=\"row_heading level0 row1\" >1</th>\n",
       "                        <td id=\"T_b659d_row1_col0\" class=\"data row1 col0\" >DS</td>\n",
       "                        <td id=\"T_b659d_row1_col1\" class=\"data row1 col1\" >3.530000</td>\n",
       "                        <td id=\"T_b659d_row1_col2\" class=\"data row1 col2\" >0.8%</td>\n",
       "            </tr>\n",
       "            <tr>\n",
       "                        <th id=\"T_b659d_level0_row2\" class=\"row_heading level0 row2\" >2</th>\n",
       "                        <td id=\"T_b659d_row2_col0\" class=\"data row2 col0\" >PC</td>\n",
       "                        <td id=\"T_b659d_row2_col1\" class=\"data row2 col1\" >34.230000</td>\n",
       "                        <td id=\"T_b659d_row2_col2\" class=\"data row2 col2\" >7.5%</td>\n",
       "            </tr>\n",
       "            <tr>\n",
       "                        <th id=\"T_b659d_level0_row3\" class=\"row_heading level0 row3\" >3</th>\n",
       "                        <td id=\"T_b659d_row3_col0\" class=\"data row3 col0\" >PS3</td>\n",
       "                        <td id=\"T_b659d_row3_col1\" class=\"data row3 col1\" >105.600000</td>\n",
       "                        <td id=\"T_b659d_row3_col2\" class=\"data row3 col2\" >23.2%</td>\n",
       "            </tr>\n",
       "            <tr>\n",
       "                        <th id=\"T_b659d_level0_row4\" class=\"row_heading level0 row4\" >4</th>\n",
       "                        <td id=\"T_b659d_row4_col0\" class=\"data row4 col0\" >PS4</td>\n",
       "                        <td id=\"T_b659d_row4_col1\" class=\"data row4 col1\" >109.310000</td>\n",
       "                        <td id=\"T_b659d_row4_col2\" class=\"data row4 col2\" >24.0%</td>\n",
       "            </tr>\n",
       "            <tr>\n",
       "                        <th id=\"T_b659d_level0_row5\" class=\"row_heading level0 row5\" >5</th>\n",
       "                        <td id=\"T_b659d_row5_col0\" class=\"data row5 col0\" >PSP</td>\n",
       "                        <td id=\"T_b659d_row5_col1\" class=\"data row5 col1\" >0.420000</td>\n",
       "                        <td id=\"T_b659d_row5_col2\" class=\"data row5 col2\" >0.1%</td>\n",
       "            </tr>\n",
       "            <tr>\n",
       "                        <th id=\"T_b659d_level0_row6\" class=\"row_heading level0 row6\" >6</th>\n",
       "                        <td id=\"T_b659d_row6_col0\" class=\"data row6 col0\" >PSV</td>\n",
       "                        <td id=\"T_b659d_row6_col1\" class=\"data row6 col1\" >10.970000</td>\n",
       "                        <td id=\"T_b659d_row6_col2\" class=\"data row6 col2\" >2.4%</td>\n",
       "            </tr>\n",
       "            <tr>\n",
       "                        <th id=\"T_b659d_level0_row7\" class=\"row_heading level0 row7\" >7</th>\n",
       "                        <td id=\"T_b659d_row7_col0\" class=\"data row7 col0\" >Wii</td>\n",
       "                        <td id=\"T_b659d_row7_col1\" class=\"data row7 col1\" >11.810000</td>\n",
       "                        <td id=\"T_b659d_row7_col2\" class=\"data row7 col2\" >2.6%</td>\n",
       "            </tr>\n",
       "            <tr>\n",
       "                        <th id=\"T_b659d_level0_row8\" class=\"row_heading level0 row8\" >8</th>\n",
       "                        <td id=\"T_b659d_row8_col0\" class=\"data row8 col0\" >WiiU</td>\n",
       "                        <td id=\"T_b659d_row8_col1\" class=\"data row8 col1\" >23.650000</td>\n",
       "                        <td id=\"T_b659d_row8_col2\" class=\"data row8 col2\" >5.2%</td>\n",
       "            </tr>\n",
       "            <tr>\n",
       "                        <th id=\"T_b659d_level0_row9\" class=\"row_heading level0 row9\" >9</th>\n",
       "                        <td id=\"T_b659d_row9_col0\" class=\"data row9 col0\" >X360</td>\n",
       "                        <td id=\"T_b659d_row9_col1\" class=\"data row9 col1\" >73.810000</td>\n",
       "                        <td id=\"T_b659d_row9_col2\" class=\"data row9 col2\" >16.2%</td>\n",
       "            </tr>\n",
       "            <tr>\n",
       "                        <th id=\"T_b659d_level0_row10\" class=\"row_heading level0 row10\" >10</th>\n",
       "                        <td id=\"T_b659d_row10_col0\" class=\"data row10 col0\" >XOne</td>\n",
       "                        <td id=\"T_b659d_row10_col1\" class=\"data row10 col1\" >41.960000</td>\n",
       "                        <td id=\"T_b659d_row10_col2\" class=\"data row10 col2\" >9.2%</td>\n",
       "            </tr>\n",
       "    </tbody></table>"
      ],
      "text/plain": [
       "<pandas.io.formats.style.Styler at 0x7f77cd2adaf0>"
      ]
     },
     "execution_count": 35,
     "metadata": {},
     "output_type": "execute_result"
    }
   ],
   "source": [
    "#Посчитаем доли рынка для каждой из платформ\n",
    "\n",
    "data_eu = data.query('\"2012\"<= year_of_release <=\"2015\"')\\\n",
    "    .pivot_table(index='platform', values='eu_sales', aggfunc = 'sum').reset_index()\n",
    "\n",
    "data_eu['market_share_eu'] = data_eu['eu_sales']/data_eu['eu_sales'].sum()\n",
    "data_eu.columns = ['Платформа', 'Продажи региона EU', 'Доля рынка,%']\n",
    "data_eu = data_eu.style.format({'Доля рынка,%': '{:,.1%}'.format,})\n",
    "data_eu\n",
    "    "
   ]
  },
  {
   "cell_type": "markdown",
   "metadata": {},
   "source": [
    "Топ5 самых популярных платформ для региона EU:\n",
    "\n",
    "PS4 - 24%\n",
    "PS3 - 23,2%\n",
    "X360 - 16,2%\n",
    "XOne - 9,2%\n",
    "3DS - 8,8%\n",
    "\n",
    "Т.к. в качестве перспективных для инвестиций мы веделили только PS4 и XOne из данного списка,\n",
    "то можно сделать вывод, что рекомендовать инвестору для региона EU будем PS4, т.к. доля рынка у нее выше, чем у XOne."
   ]
  },
  {
   "cell_type": "code",
   "execution_count": 36,
   "metadata": {},
   "outputs": [
    {
     "data": {
      "image/png": "[encoded data removed]",
      "text/plain": [
       "<Figure size 1080x360 with 1 Axes>"
      ]
     },
     "metadata": {
      "needs_background": "light"
     },
     "output_type": "display_data"
    }
   ],
   "source": [
    "#Сделаем распределение продаж региона JP по платформам для выбранного актуального перида - 2012 - 2015\n",
    "\n",
    "ax = data.query('\"2012\"<= year_of_release <=\"2015\"')\\\n",
    "    .pivot_table(index='platform', values='jp_sales', aggfunc = 'sum').reset_index()\\\n",
    "    .plot(x='platform', y='jp_sales', grid=True, figsize=(15, 5), kind='bar')\\\n",
    "    .set(title = 'Распределение продаж игр региона JP по платформам (2012-2015 г)', xlabel = 'Платформа', ylabel = 'Продажи региона JP')"
   ]
  },
  {
   "cell_type": "code",
   "execution_count": 37,
   "metadata": {},
   "outputs": [
    {
     "data": {
      "text/html": [
       "<style  type=\"text/css\" >\n",
       "</style><table id=\"T_6b14c_\" ><thead>    <tr>        <th class=\"blank level0\" ></th>        <th class=\"col_heading level0 col0\" >Платформа</th>        <th class=\"col_heading level0 col1\" >Продажи региона JP</th>        <th class=\"col_heading level0 col2\" >Доля рынка,%</th>    </tr></thead><tbody>\n",
       "                <tr>\n",
       "                        <th id=\"T_6b14c_level0_row0\" class=\"row_heading level0 row0\" >0</th>\n",
       "                        <td id=\"T_6b14c_row0_col0\" class=\"data row0 col0\" >3DS</td>\n",
       "                        <td id=\"T_6b14c_row0_col1\" class=\"data row0 col1\" >79.760000</td>\n",
       "                        <td id=\"T_6b14c_row0_col2\" class=\"data row0 col2\" >46.0%</td>\n",
       "            </tr>\n",
       "            <tr>\n",
       "                        <th id=\"T_6b14c_level0_row1\" class=\"row_heading level0 row1\" >1</th>\n",
       "                        <td id=\"T_6b14c_row1_col0\" class=\"data row1 col0\" >DS</td>\n",
       "                        <td id=\"T_6b14c_row1_col1\" class=\"data row1 col1\" >3.720000</td>\n",
       "                        <td id=\"T_6b14c_row1_col2\" class=\"data row1 col2\" >2.1%</td>\n",
       "            </tr>\n",
       "            <tr>\n",
       "                        <th id=\"T_6b14c_level0_row2\" class=\"row_heading level0 row2\" >2</th>\n",
       "                        <td id=\"T_6b14c_row2_col0\" class=\"data row2 col0\" >PC</td>\n",
       "                        <td id=\"T_6b14c_row2_col1\" class=\"data row2 col1\" >0.000000</td>\n",
       "                        <td id=\"T_6b14c_row2_col2\" class=\"data row2 col2\" >0.0%</td>\n",
       "            </tr>\n",
       "            <tr>\n",
       "                        <th id=\"T_6b14c_level0_row3\" class=\"row_heading level0 row3\" >3</th>\n",
       "                        <td id=\"T_6b14c_row3_col0\" class=\"data row3 col0\" >PS3</td>\n",
       "                        <td id=\"T_6b14c_row3_col1\" class=\"data row3 col1\" >33.990000</td>\n",
       "                        <td id=\"T_6b14c_row3_col2\" class=\"data row3 col2\" >19.6%</td>\n",
       "            </tr>\n",
       "            <tr>\n",
       "                        <th id=\"T_6b14c_level0_row4\" class=\"row_heading level0 row4\" >4</th>\n",
       "                        <td id=\"T_6b14c_row4_col0\" class=\"data row4 col0\" >PS4</td>\n",
       "                        <td id=\"T_6b14c_row4_col1\" class=\"data row4 col1\" >10.220000</td>\n",
       "                        <td id=\"T_6b14c_row4_col2\" class=\"data row4 col2\" >5.9%</td>\n",
       "            </tr>\n",
       "            <tr>\n",
       "                        <th id=\"T_6b14c_level0_row5\" class=\"row_heading level0 row5\" >5</th>\n",
       "                        <td id=\"T_6b14c_row5_col0\" class=\"data row5 col0\" >PSP</td>\n",
       "                        <td id=\"T_6b14c_row5_col1\" class=\"data row5 col1\" >10.470000</td>\n",
       "                        <td id=\"T_6b14c_row5_col2\" class=\"data row5 col2\" >6.0%</td>\n",
       "            </tr>\n",
       "            <tr>\n",
       "                        <th id=\"T_6b14c_level0_row6\" class=\"row_heading level0 row6\" >6</th>\n",
       "                        <td id=\"T_6b14c_row6_col0\" class=\"data row6 col0\" >PSV</td>\n",
       "                        <td id=\"T_6b14c_row6_col1\" class=\"data row6 col1\" >17.480000</td>\n",
       "                        <td id=\"T_6b14c_row6_col2\" class=\"data row6 col2\" >10.1%</td>\n",
       "            </tr>\n",
       "            <tr>\n",
       "                        <th id=\"T_6b14c_level0_row7\" class=\"row_heading level0 row7\" >7</th>\n",
       "                        <td id=\"T_6b14c_row7_col0\" class=\"data row7 col0\" >Wii</td>\n",
       "                        <td id=\"T_6b14c_row7_col1\" class=\"data row7 col1\" >3.390000</td>\n",
       "                        <td id=\"T_6b14c_row7_col2\" class=\"data row7 col2\" >2.0%</td>\n",
       "            </tr>\n",
       "            <tr>\n",
       "                        <th id=\"T_6b14c_level0_row8\" class=\"row_heading level0 row8\" >8</th>\n",
       "                        <td id=\"T_6b14c_row8_col0\" class=\"data row8 col0\" >WiiU</td>\n",
       "                        <td id=\"T_6b14c_row8_col1\" class=\"data row8 col1\" >12.340000</td>\n",
       "                        <td id=\"T_6b14c_row8_col2\" class=\"data row8 col2\" >7.1%</td>\n",
       "            </tr>\n",
       "            <tr>\n",
       "                        <th id=\"T_6b14c_level0_row9\" class=\"row_heading level0 row9\" >9</th>\n",
       "                        <td id=\"T_6b14c_row9_col0\" class=\"data row9 col0\" >X360</td>\n",
       "                        <td id=\"T_6b14c_row9_col1\" class=\"data row9 col1\" >1.570000</td>\n",
       "                        <td id=\"T_6b14c_row9_col2\" class=\"data row9 col2\" >0.9%</td>\n",
       "            </tr>\n",
       "            <tr>\n",
       "                        <th id=\"T_6b14c_level0_row10\" class=\"row_heading level0 row10\" >10</th>\n",
       "                        <td id=\"T_6b14c_row10_col0\" class=\"data row10 col0\" >XOne</td>\n",
       "                        <td id=\"T_6b14c_row10_col1\" class=\"data row10 col1\" >0.330000</td>\n",
       "                        <td id=\"T_6b14c_row10_col2\" class=\"data row10 col2\" >0.2%</td>\n",
       "            </tr>\n",
       "    </tbody></table>"
      ],
      "text/plain": [
       "<pandas.io.formats.style.Styler at 0x7f77cd7ca6a0>"
      ]
     },
     "execution_count": 37,
     "metadata": {},
     "output_type": "execute_result"
    }
   ],
   "source": [
    "#Посчитаем доли рынка для каждой из платформ\n",
    "\n",
    "data_jp = data.query('\"2012\"<= year_of_release <=\"2015\"')\\\n",
    "    .pivot_table(index='platform', values='jp_sales', aggfunc = 'sum').reset_index()\n",
    "\n",
    "data_jp['market_share_jp'] = data_jp['jp_sales']/data_jp['jp_sales'].sum()\n",
    "data_jp.columns = ['Платформа', 'Продажи региона JP', 'Доля рынка,%']\n",
    "data_jp = data_jp.style.format({'Доля рынка,%': '{:,.1%}'.format,})\n",
    "data_jp"
   ]
  },
  {
   "cell_type": "markdown",
   "metadata": {},
   "source": [
    "Топ5 самых популярных платформ для региона JP:\n",
    "\n",
    "3DS - 46%\n",
    "PS3 - 19,6%\n",
    "PSV - 10,1%\n",
    "WiiU - 7,1%\n",
    "PSP - 6%\n",
    "\n",
    "Т.к. в качестве перспективных для инвестиций мы веделили только WiiU из данного списка,\n",
    "то можно сделать вывод, что рекомендовать инвестору для региона JP будем WiiU, т.к. в другие вкладывать деньги нет смысла."
   ]
  },
  {
   "cell_type": "markdown",
   "metadata": {},
   "source": [
    "Проанализировав данные всех регионов, видим интересные тенденции:\n",
    "\n",
    "- Для регионов NA и EU лидеры это платформа PS (3 и 4е поколение), а также X360.\n",
    "Причем, в регионе NA лидирующее положение занимает платформа X360, когда как в EU - PS.\n",
    "\n",
    "- Для региона JP ситуация прямо противоположная - почти половину рынка (46%) занимает платформа 3DS.\n",
    "PS3 находится на 2м месте с существенным отрывом (19,6%), тогда как X360 занимает практически минимальную долю рынка (0,9%).\n"
   ]
  },
  {
   "cell_type": "markdown",
   "metadata": {},
   "source": [
    "Самые популярные жанры (топ-5)."
   ]
  },
  {
   "cell_type": "code",
   "execution_count": 38,
   "metadata": {},
   "outputs": [
    {
     "data": {
      "image/png": "[encoded data removed]",
      "text/plain": [
       "<Figure size 1080x360 with 1 Axes>"
      ]
     },
     "metadata": {
      "needs_background": "light"
     },
     "output_type": "display_data"
    }
   ],
   "source": [
    "#Сделаем распределение продаж региона NA по жанрам для выбранного актуального перида - 2012 - 2015\n",
    "\n",
    "ax = data.query('\"2012\"<= year_of_release <=\"2015\"')\\\n",
    "    .pivot_table(index='genre', values='na_sales', aggfunc = 'sum').reset_index()\\\n",
    "    .plot(x='genre', y='na_sales', grid=True, figsize=(15, 5), kind='bar')\\\n",
    "    .set(title = 'Распределение продаж игр региона NA по жанрам (2012-2015 г)', xlabel = 'Жанр', ylabel = 'Продажи региона NA')"
   ]
  },
  {
   "cell_type": "code",
   "execution_count": 39,
   "metadata": {},
   "outputs": [
    {
     "data": {
      "image/png": "[encoded data removed]",
      "text/plain": [
       "<Figure size 1080x360 with 1 Axes>"
      ]
     },
     "metadata": {
      "needs_background": "light"
     },
     "output_type": "display_data"
    }
   ],
   "source": [
    "#Сделаем распределение продаж региона EU по жанрам для выбранного актуального перида - 2012 - 2015\n",
    "\n",
    "ax = data.query('\"2012\"<= year_of_release <=\"2015\"')\\\n",
    "    .pivot_table(index='genre', values='eu_sales', aggfunc = 'sum').reset_index()\\\n",
    "    .plot(x='genre', y='eu_sales', grid=True, figsize=(15, 5), kind='bar')\\\n",
    "    .set(title = 'Распределение продаж игр региона EU по жанрам (2012-2015 г)', xlabel = 'Жанр', ylabel = 'Продажи региона EU')"
   ]
  },
  {
   "cell_type": "code",
   "execution_count": 40,
   "metadata": {},
   "outputs": [
    {
     "data": {
      "image/png": "[encoded data removed]",
      "text/plain": [
       "<Figure size 1080x360 with 1 Axes>"
      ]
     },
     "metadata": {
      "needs_background": "light"
     },
     "output_type": "display_data"
    }
   ],
   "source": [
    "#Сделаем распределение продаж региона JP по жанрам для выбранного актуального перида - 2012 - 2015\n",
    "\n",
    "ax = data.query('\"2012\"<= year_of_release <=\"2015\"')\\\n",
    "    .pivot_table(index='genre', values='jp_sales', aggfunc = 'sum').reset_index()\\\n",
    "    .plot(x='genre', y='jp_sales', grid=True, figsize=(15, 5), kind='bar')\\\n",
    "    .set(title = 'Распределение продаж игр региона JP по жанрам (2012-2015 г)', xlabel = 'Жанр', ylabel = 'Продажи региона JP')"
   ]
  },
  {
   "cell_type": "markdown",
   "metadata": {},
   "source": [
    "На графиках видно, что безусловным лидером в регионах NA и EU является жанр Action, тогда как в регионе JP лидирует жанр\n",
    "Role-Playing, а Action находится на 2м месте.\n",
    "Скорее всего данное различие связано с различием в предпочтениях в регионе JP по сравнению с регионами NA и EU, в которых потребители в основном схожи."
   ]
  },
  {
   "cell_type": "markdown",
   "metadata": {},
   "source": [
    "Оценим, влияет ли рейтинг ESRB на продажи в отдельном регионе."
   ]
  },
  {
   "cell_type": "code",
   "execution_count": 41,
   "metadata": {},
   "outputs": [
    {
     "data": {
      "image/png": "[encoded data removed]",
      "text/plain": [
       "<Figure size 1080x360 with 1 Axes>"
      ]
     },
     "metadata": {
      "needs_background": "light"
     },
     "output_type": "display_data"
    }
   ],
   "source": [
    "#Сделаем распределение продаж региона NA по рейтингу ESRB для выбранного актуального перида - 2012 - 2015\n",
    "\n",
    "ax = data.query('\"2012\"<= year_of_release <=\"2015\"')\\\n",
    "    .pivot_table(index='rating', values='na_sales', aggfunc = 'sum').reset_index()\\\n",
    "    .plot(x='rating', y='na_sales', grid=True, figsize=(15, 5), kind='bar')\\\n",
    "    .set(title = 'Распределение продаж игр региона NA по рейтигу ESRB (2012-2015 г)', xlabel = 'Рейтинг ESRB', ylabel = 'Продажи региона NA')"
   ]
  },
  {
   "cell_type": "code",
   "execution_count": 42,
   "metadata": {},
   "outputs": [
    {
     "data": {
      "text/html": [
       "<style  type=\"text/css\" >\n",
       "</style><table id=\"T_71d12_\" ><thead>    <tr>        <th class=\"blank level0\" ></th>        <th class=\"col_heading level0 col0\" >Рейтинг ESRB</th>        <th class=\"col_heading level0 col1\" >Продажи региона NA</th>        <th class=\"col_heading level0 col2\" >Доля от продаж,%</th>    </tr></thead><tbody>\n",
       "                <tr>\n",
       "                        <th id=\"T_71d12_level0_row0\" class=\"row_heading level0 row0\" >0</th>\n",
       "                        <td id=\"T_71d12_row0_col0\" class=\"data row0 col0\" >E</td>\n",
       "                        <td id=\"T_71d12_row0_col1\" class=\"data row0 col1\" >106.400000</td>\n",
       "                        <td id=\"T_71d12_row0_col2\" class=\"data row0 col2\" >19.5%</td>\n",
       "            </tr>\n",
       "            <tr>\n",
       "                        <th id=\"T_71d12_level0_row1\" class=\"row_heading level0 row1\" >1</th>\n",
       "                        <td id=\"T_71d12_row1_col0\" class=\"data row1 col0\" >E10+</td>\n",
       "                        <td id=\"T_71d12_row1_col1\" class=\"data row1 col1\" >71.890000</td>\n",
       "                        <td id=\"T_71d12_row1_col2\" class=\"data row1 col2\" >13.2%</td>\n",
       "            </tr>\n",
       "            <tr>\n",
       "                        <th id=\"T_71d12_level0_row2\" class=\"row_heading level0 row2\" >2</th>\n",
       "                        <td id=\"T_71d12_row2_col0\" class=\"data row2 col0\" >M</td>\n",
       "                        <td id=\"T_71d12_row2_col1\" class=\"data row2 col1\" >215.900000</td>\n",
       "                        <td id=\"T_71d12_row2_col2\" class=\"data row2 col2\" >39.5%</td>\n",
       "            </tr>\n",
       "            <tr>\n",
       "                        <th id=\"T_71d12_level0_row3\" class=\"row_heading level0 row3\" >3</th>\n",
       "                        <td id=\"T_71d12_row3_col0\" class=\"data row3 col0\" >T</td>\n",
       "                        <td id=\"T_71d12_row3_col1\" class=\"data row3 col1\" >57.070000</td>\n",
       "                        <td id=\"T_71d12_row3_col2\" class=\"data row3 col2\" >10.5%</td>\n",
       "            </tr>\n",
       "            <tr>\n",
       "                        <th id=\"T_71d12_level0_row4\" class=\"row_heading level0 row4\" >4</th>\n",
       "                        <td id=\"T_71d12_row4_col0\" class=\"data row4 col0\" >unknown</td>\n",
       "                        <td id=\"T_71d12_row4_col1\" class=\"data row4 col1\" >94.780000</td>\n",
       "                        <td id=\"T_71d12_row4_col2\" class=\"data row4 col2\" >17.4%</td>\n",
       "            </tr>\n",
       "    </tbody></table>"
      ],
      "text/plain": [
       "<pandas.io.formats.style.Styler at 0x7f77cd0b46d0>"
      ]
     },
     "execution_count": 42,
     "metadata": {},
     "output_type": "execute_result"
    }
   ],
   "source": [
    "#Посчитаем сколько % от общих продаж региона NA приходится на каждый рейтинг ESRB\n",
    "\n",
    "data_na = data.query('\"2012\"<= year_of_release <=\"2015\"')\\\n",
    "    .pivot_table(index='rating', values='na_sales', aggfunc = 'sum').reset_index()\n",
    "\n",
    "data_na['share_na'] = data_na['na_sales']/data_na['na_sales'].sum()\n",
    "data_na.columns = ['Рейтинг ESRB', 'Продажи региона NA', 'Доля от продаж,%']\n",
    "data_na = data_na.style.format({'Доля от продаж,%': '{:,.1%}'.format,})\n",
    "data_na"
   ]
  },
  {
   "cell_type": "markdown",
   "metadata": {},
   "source": [
    "На графике и в таблице видно, что для региона NA 82,6% продаж приходится на категорию с рейтингом.\n",
    "Также, заметным является то, что игры с рейтингом M занимают 39,5%. \n",
    "Согласно этому, нельзя однозначно сказать, что рейтинг ESRB оказывает влияние на продажи в регионе.\n",
    "Возможно, что в регионе NA просто больше игр с рейтингом, чем без рейтинга и в игры больше играют люди категории 18+ (рейтинг игры 18+). \n",
    "\n",
    "Можно сделать вывод о том, что в регионе NA самые популярные игры категории M 39,5% (для взрослых),\n",
    "затем категория E 19,5% (для всех), затем примерно одинаково популярны игры категории E10+ и T (для детей старше 10 лет и тинейджеров соответственно)."
   ]
  },
  {
   "cell_type": "code",
   "execution_count": 43,
   "metadata": {},
   "outputs": [
    {
     "data": {
      "image/png": "[encoded data removed]",
      "text/plain": [
       "<Figure size 1080x360 with 1 Axes>"
      ]
     },
     "metadata": {
      "needs_background": "light"
     },
     "output_type": "display_data"
    }
   ],
   "source": [
    "#Сделаем распределение продаж региона EU по рейтингу ESRB для выбранного актуального перида - 2012 - 2015\n",
    "\n",
    "ax = data.query('\"2012\"<= year_of_release <=\"2015\"')\\\n",
    "    .pivot_table(index='rating', values='eu_sales', aggfunc = 'sum').reset_index()\\\n",
    "    .plot(x='rating', y='eu_sales', grid=True, figsize=(15, 5), kind='bar')\\\n",
    "    .set(title = 'Распределение продаж игр региона EU по рейтигу ESRB (2012-2015 г)', xlabel = 'Рейтинг ESRB', ylabel = 'Продажи региона EU')"
   ]
  },
  {
   "cell_type": "code",
   "execution_count": 44,
   "metadata": {},
   "outputs": [
    {
     "data": {
      "text/html": [
       "<style  type=\"text/css\" >\n",
       "</style><table id=\"T_55755_\" ><thead>    <tr>        <th class=\"blank level0\" ></th>        <th class=\"col_heading level0 col0\" >Рейтинг ESRB</th>        <th class=\"col_heading level0 col1\" >Продажи региона EU</th>        <th class=\"col_heading level0 col2\" >Доля от продаж,%</th>    </tr></thead><tbody>\n",
       "                <tr>\n",
       "                        <th id=\"T_55755_level0_row0\" class=\"row_heading level0 row0\" >0</th>\n",
       "                        <td id=\"T_55755_row0_col0\" class=\"data row0 col0\" >E</td>\n",
       "                        <td id=\"T_55755_row0_col1\" class=\"data row0 col1\" >99.420000</td>\n",
       "                        <td id=\"T_55755_row0_col2\" class=\"data row0 col2\" >21.8%</td>\n",
       "            </tr>\n",
       "            <tr>\n",
       "                        <th id=\"T_55755_level0_row1\" class=\"row_heading level0 row1\" >1</th>\n",
       "                        <td id=\"T_55755_row1_col0\" class=\"data row1 col0\" >E10+</td>\n",
       "                        <td id=\"T_55755_row1_col1\" class=\"data row1 col1\" >51.560000</td>\n",
       "                        <td id=\"T_55755_row1_col2\" class=\"data row1 col2\" >11.3%</td>\n",
       "            </tr>\n",
       "            <tr>\n",
       "                        <th id=\"T_55755_level0_row2\" class=\"row_heading level0 row2\" >2</th>\n",
       "                        <td id=\"T_55755_row2_col0\" class=\"data row2 col0\" >M</td>\n",
       "                        <td id=\"T_55755_row2_col1\" class=\"data row2 col1\" >177.420000</td>\n",
       "                        <td id=\"T_55755_row2_col2\" class=\"data row2 col2\" >38.9%</td>\n",
       "            </tr>\n",
       "            <tr>\n",
       "                        <th id=\"T_55755_level0_row3\" class=\"row_heading level0 row3\" >3</th>\n",
       "                        <td id=\"T_55755_row3_col0\" class=\"data row3 col0\" >T</td>\n",
       "                        <td id=\"T_55755_row3_col1\" class=\"data row3 col1\" >43.170000</td>\n",
       "                        <td id=\"T_55755_row3_col2\" class=\"data row3 col2\" >9.5%</td>\n",
       "            </tr>\n",
       "            <tr>\n",
       "                        <th id=\"T_55755_level0_row4\" class=\"row_heading level0 row4\" >4</th>\n",
       "                        <td id=\"T_55755_row4_col0\" class=\"data row4 col0\" >unknown</td>\n",
       "                        <td id=\"T_55755_row4_col1\" class=\"data row4 col1\" >84.030000</td>\n",
       "                        <td id=\"T_55755_row4_col2\" class=\"data row4 col2\" >18.4%</td>\n",
       "            </tr>\n",
       "    </tbody></table>"
      ],
      "text/plain": [
       "<pandas.io.formats.style.Styler at 0x7f77ccf26610>"
      ]
     },
     "execution_count": 44,
     "metadata": {},
     "output_type": "execute_result"
    }
   ],
   "source": [
    "#Посчитаем сколько % от общих продаж региона EU приходится на каждый рейтинг ESRB\n",
    "\n",
    "data_eu = data.query('\"2012\"<= year_of_release <=\"2015\"')\\\n",
    "    .pivot_table(index='rating', values='eu_sales', aggfunc = 'sum').reset_index()\n",
    "\n",
    "data_eu['share_eu'] = data_eu['eu_sales']/data_eu['eu_sales'].sum()\n",
    "data_eu.columns = ['Рейтинг ESRB', 'Продажи региона EU', 'Доля от продаж,%']\n",
    "data_eu = data_eu.style.format({'Доля от продаж,%': '{:,.1%}'.format,})\n",
    "data_eu"
   ]
  },
  {
   "cell_type": "markdown",
   "metadata": {},
   "source": [
    "В регионе EU ситуация очень похожа на ситуацию в регионе NA.\n",
    "На графике и в таблице видно, что для региона EU 81,5% продаж приходится на категорию с рейтингом.\n",
    "Также, заметным является то, что игры с рейтингом M занимают 38,9%. \n",
    "Согласно этому, нельзя однозначно сказать, что рейтинг ESRB оказывает влияние на продажи в регионе.\n",
    "Возможно, что в регионе EU просто больше игр с рейтингом, чем без рейтинга и в игры больше играют люди категории 18+ (реитинг игры 18+). \n",
    "\n",
    "\n",
    "Можно сделать вывод о том, что в регионе EU самые популярные игры категории M 38,9% (для взрослых),\n",
    "затем категория E 21,8% (для всех), затем примерно одинаково популярны игры категории E10+ и T (для детей старше 10 лет и тинейджеров соответственно)."
   ]
  },
  {
   "cell_type": "code",
   "execution_count": 45,
   "metadata": {},
   "outputs": [
    {
     "data": {
      "image/png": "[encoded data removed]",
      "text/plain": [
       "<Figure size 1080x360 with 1 Axes>"
      ]
     },
     "metadata": {
      "needs_background": "light"
     },
     "output_type": "display_data"
    }
   ],
   "source": [
    "#Сделаем распределение продаж региона JP по рейтингу ESRB для выбранного актуального перида - 2012 - 2015\n",
    "\n",
    "ax = data.query('\"2012\"<= year_of_release <=\"2015\"')\\\n",
    "    .pivot_table(index='rating', values='jp_sales', aggfunc = 'sum').reset_index()\\\n",
    "    .plot(x='rating', y='jp_sales', grid=True, figsize=(15, 5), kind='bar')\\\n",
    "    .set(title = 'Распределение продаж игр региона JP по рейтигу ESRB (2012-2015 г)', xlabel = 'Рейтинг ESRB', ylabel = 'Продажи региона JP')"
   ]
  },
  {
   "cell_type": "code",
   "execution_count": 46,
   "metadata": {},
   "outputs": [
    {
     "data": {
      "text/html": [
       "<style  type=\"text/css\" >\n",
       "</style><table id=\"T_9f635_\" ><thead>    <tr>        <th class=\"blank level0\" ></th>        <th class=\"col_heading level0 col0\" >Рейтинг ESRB</th>        <th class=\"col_heading level0 col1\" >Продажи региона JP</th>        <th class=\"col_heading level0 col2\" >Доля от продаж,%</th>    </tr></thead><tbody>\n",
       "                <tr>\n",
       "                        <th id=\"T_9f635_level0_row0\" class=\"row_heading level0 row0\" >0</th>\n",
       "                        <td id=\"T_9f635_row0_col0\" class=\"data row0 col0\" >E</td>\n",
       "                        <td id=\"T_9f635_row0_col1\" class=\"data row0 col1\" >27.260000</td>\n",
       "                        <td id=\"T_9f635_row0_col2\" class=\"data row0 col2\" >15.7%</td>\n",
       "            </tr>\n",
       "            <tr>\n",
       "                        <th id=\"T_9f635_level0_row1\" class=\"row_heading level0 row1\" >1</th>\n",
       "                        <td id=\"T_9f635_row1_col0\" class=\"data row1 col0\" >E10+</td>\n",
       "                        <td id=\"T_9f635_row1_col1\" class=\"data row1 col1\" >7.740000</td>\n",
       "                        <td id=\"T_9f635_row1_col2\" class=\"data row1 col2\" >4.5%</td>\n",
       "            </tr>\n",
       "            <tr>\n",
       "                        <th id=\"T_9f635_level0_row2\" class=\"row_heading level0 row2\" >2</th>\n",
       "                        <td id=\"T_9f635_row2_col0\" class=\"data row2 col0\" >M</td>\n",
       "                        <td id=\"T_9f635_row2_col1\" class=\"data row2 col1\" >20.000000</td>\n",
       "                        <td id=\"T_9f635_row2_col2\" class=\"data row2 col2\" >11.5%</td>\n",
       "            </tr>\n",
       "            <tr>\n",
       "                        <th id=\"T_9f635_level0_row3\" class=\"row_heading level0 row3\" >3</th>\n",
       "                        <td id=\"T_9f635_row3_col0\" class=\"data row3 col0\" >T</td>\n",
       "                        <td id=\"T_9f635_row3_col1\" class=\"data row3 col1\" >23.750000</td>\n",
       "                        <td id=\"T_9f635_row3_col2\" class=\"data row3 col2\" >13.7%</td>\n",
       "            </tr>\n",
       "            <tr>\n",
       "                        <th id=\"T_9f635_level0_row4\" class=\"row_heading level0 row4\" >4</th>\n",
       "                        <td id=\"T_9f635_row4_col0\" class=\"data row4 col0\" >unknown</td>\n",
       "                        <td id=\"T_9f635_row4_col1\" class=\"data row4 col1\" >94.520000</td>\n",
       "                        <td id=\"T_9f635_row4_col2\" class=\"data row4 col2\" >54.6%</td>\n",
       "            </tr>\n",
       "    </tbody></table>"
      ],
      "text/plain": [
       "<pandas.io.formats.style.Styler at 0x7f77ccfe0460>"
      ]
     },
     "execution_count": 46,
     "metadata": {},
     "output_type": "execute_result"
    }
   ],
   "source": [
    "#Посчитаем сколько % от общих продаж региона JP приходится на каждый рейтинг ESRB\n",
    "\n",
    "data_jp = data.query('\"2012\"<= year_of_release <=\"2015\"')\\\n",
    "    .pivot_table(index='rating', values='jp_sales', aggfunc = 'sum').reset_index()\n",
    "\n",
    "data_jp['share_jp'] = data_jp['jp_sales']/data_jp['jp_sales'].sum()\n",
    "data_jp.columns = ['Рейтинг ESRB', 'Продажи региона JP', 'Доля от продаж,%']\n",
    "data_jp = data_jp.style.format({'Доля от продаж,%': '{:,.1%}'.format,})\n",
    "data_jp"
   ]
  },
  {
   "cell_type": "markdown",
   "metadata": {},
   "source": [
    "На графике и в таблице видно, что для региона JP более половины продаж приходится на категорию без рейтинга.\n",
    "Это может быть связано с тем, что не все игры в регионе JP проверяются по этому рейтингу (скорее всего это игры, которые создаются в регионе).\n",
    "Поэтому нельзя сказать, что рейтинг ESRB оказывает влияние на продажи в регионе, т.к. игры без рейтинга продаются хорошо.\n",
    "\n",
    "\n",
    "Можно сделать вывод о том, что в регионе JP самые популярные игры категории E 39,5% (для всех),\n",
    "затем категория T 13,7% (для тинейджеров), на 3м месте игры категории M 11,5% (для взрослых) и на 4м E10+ (для детей старше 10 лет). Вместе с тем, существенная доля приходится на игры без рейтинга и в этой категории разбивка вполне может отличаться."
   ]
  },
  {
   "cell_type": "markdown",
   "metadata": {},
   "source": [
    "Шаг 5. Проверим гипотезы"
   ]
  },
  {
   "cell_type": "markdown",
   "metadata": {},
   "source": [
    "Средние пользовательские рейтинги платформ Xbox One и PC одинаковые - нулевая гипотеза.\n",
    "Средние пользовательские рейтинги платформ Xbox One и PC различаются - альтернативная гипотеза."
   ]
  },
  {
   "cell_type": "code",
   "execution_count": 47,
   "metadata": {},
   "outputs": [
    {
     "name": "stdout",
     "output_type": "stream",
     "text": [
      "p-значение: 0.7954249001083293\n",
      "Не получилось отвергнуть нулевую гипотезу\n"
     ]
    }
   ],
   "source": [
    "from scipy import stats as st\n",
    "import numpy as np\n",
    "\n",
    "user_score_xone = data.query('platform ==\"XOne\" and (\"2012\"<= year_of_release <=\"2015\")')['user_score']\n",
    "user_score_pc = data.query('platform ==\"PC\" and (\"2012\"<= year_of_release <=\"2015\")')['user_score']\n",
    "alpha = 0.05\n",
    "\n",
    "results = st.ttest_ind(\n",
    "    user_score_xone, \n",
    "    user_score_pc) \n",
    "\n",
    "print('p-значение:', results.pvalue)\n",
    "\n",
    "if results.pvalue < alpha:\n",
    "    print(\"Отвергаем нулевую гипотезу\")\n",
    "else:\n",
    "    print(\"Не получилось отвергнуть нулевую гипотезу\")"
   ]
  },
  {
   "cell_type": "markdown",
   "metadata": {},
   "source": [
    "Таким образом, можно сделать вывод, что средние пользовательские рейтинги платформ Xbox One и PC одинаковые - \n",
    "нулевая гипотеза не отвергается."
   ]
  },
  {
   "cell_type": "markdown",
   "metadata": {},
   "source": [
    "Средние пользовательские рейтинги жанров Action и Sports одинаковые - нулевая гипотеза.\n",
    "Средние пользовательские рейтинги жанров Action и Sports разные - альтернативная гипотеза."
   ]
  },
  {
   "cell_type": "code",
   "execution_count": 48,
   "metadata": {},
   "outputs": [
    {
     "name": "stdout",
     "output_type": "stream",
     "text": [
      "p-значение: 8.301546464403053e-19\n",
      "Отвергаем нулевую гипотезу\n"
     ]
    }
   ],
   "source": [
    "user_score_action = data.query('genre ==\"Action\" and (\"2012\"<= year_of_release <=\"2015\")')['user_score']\n",
    "user_score_sports = data.query('genre ==\"Sports\" and (\"2012\"<= year_of_release <=\"2015\")')['user_score']\n",
    "alpha = 0.05\n",
    "\n",
    "results = st.ttest_ind(\n",
    "    user_score_action, \n",
    "    user_score_sports) \n",
    "\n",
    "print('p-значение:', results.pvalue)\n",
    "\n",
    "if results.pvalue < alpha:\n",
    "    print(\"Отвергаем нулевую гипотезу\")\n",
    "else:\n",
    "    print(\"Не получилось отвергнуть нулевую гипотезу\")"
   ]
  },
  {
   "cell_type": "markdown",
   "metadata": {},
   "source": [
    "Таким образом, можно сделать вывод, что средние пользовательские рейтинги рейтинги жанров Action и Sports разные - \n",
    "нулевая гипотеза отклоняется."
   ]
  },
  {
   "cell_type": "markdown",
   "metadata": {},
   "source": [
    "Шаг 6. Общий вывод"
   ]
  },
  {
   "cell_type": "markdown",
   "metadata": {},
   "source": [
    "После проведенного анализа исторических данных компьютерных игр можно сделать следующие выводы:\n",
    "\n",
    "- Количество выпущенных игр очень различается в зависимости от года. Максимум был в 2008 и 2009 годах - потом начался спад.\n",
    "На мой взгляд, необходимо выбратьпериод с которым мы будем работать. Он должен быть близок к текущему и прогнозируемому, т.к. если взять например 1987 год - в нем былипопулярны совсем другие игры и продажи были гораздо ниже.\n",
    "\n",
    "- Выяснили, что жизненный цикл игры составляет около 10 лет (от начала до окончания продаж).\n",
    "\n",
    "- Выбрали актуальный период, на котором будем проводить аналитику. Если посмотреть на динамику кол-ва выпущенных игр по годам видно, что начиная с 2008 года началось падение кол-ва выходящих видеоигр. Начиная с 2012 года видна стабилизация. Поэтому за актуальный период возьмем 2012 - 2015 год (2016 год учитывать не будем, т.к. скорее всего продажи по нему еще не полные).\n",
    "\n",
    "- Судя по графику и опираясь на то, что жизненный цикл платформы составляет около 10 лет, то потенциально прибыльными можно считать платформы PS4 и xOne. Они будут продаваться еще около 7 лет. Остальные платформы из топ 5 за выбранный период демонстрируют спад продаж.\n",
    "Если рассматривать не топовые платформы, можно братить внимание на платформу WiiU - она вышла в 2012 году и имеет стабильную динамику продаж, которая может сохраняться еще несколько лет. Поэтому ее я также отнесла бы к потенциально прибыльной в своем сегменте.\n",
    "\n",
    "- Построили график «ящик с усами» по глобальным продажам игр в разбивке по потенциально прибыльным платформам.\n",
    "\n",
    "Рассмотрим ящики с усами:\n",
    "\n",
    "Для всех платформ минимальное значение это 0, т.к. продажи не могут быть отрицательными.\n",
    "Верхний заканчивается около 2,5 у PS4 и XOne и около 1,2 у WiiU — это 1,5 межквартильного размаха, добавленного к 3-му квартилю. Это ориентировочная граница нормального размаха. Всё, что лежит за ней будем считать выбросами.\n",
    "Медиана у PS4 и XOne - около 0,3, а у WiiU - около 0,2.\n",
    "Т.к. зеленая линия стремится вниз, а не в сторону верхнего уса, можно сделать вывод, что выбросы - это достаточно редкое явление для всех платформ.\n",
    "\n",
    "- Проверили, зависят ли продажи платформы PS4 от отзывов пользователей.\n",
    "\n",
    "Для этого, построили диаграмму рассеяния и посчитали корреляцию.\n",
    "Значение корреляции - -0.028820146478203145\n",
    "Как на графике, так и при рассчете корреляции видно, что зависимость отсутствует.\n",
    "\n",
    "- Проверили, зависят ли продажи платформ XOne и WiiU от отзывов пользователей.\n",
    "\n",
    "Для этого, построили диаграмму рассеяния и посчитали корреляцию.\n",
    "Значение корреляции - 0.16141618154008666\n",
    "Как на графике, так и при рассчете корреляции видно, что зависимость отсутствует.\n",
    "\n",
    "- Проверили, зависят ли продажи платформы PS4 от отзывов критиков.\n",
    "\n",
    "Для этого, построили диаграмму рассеяния и посчитали корреляцию.\n",
    "Значение корреляции - После проведенного анализа исторических данных компьютерных игр можно сделать следующие выводы:\n",
    "\n",
    "- Количество выпущенных игр очень различается в зависимости от года. Максимум был в 2008 и 2009 годах - потом начался спад.\n",
    "На мой взгляд, необходимо выбратьпериод с которым мы будем работать. Он должен быть близок к текущему и прогнозируемому, т.к. если взять например 1987 год - в нем былипопулярны совсем другие игры и продажи были гораздо ниже.\n",
    "\n",
    "- Выяснили, что жизненный цикл игры составляет около 10 лет (от начала до окончания продаж).\n",
    "\n",
    "- Выбрали актуальный период, на котором будем проводить аналитику. Если посмотреть на динамику кол-ва выпущенных игр по годам видно, что начиная с 2008 года началось падение кол-ва выходящих видеоигр. Начиная с 2012 года видна стабилизация. Поэтому за актуальный период возьмем 2012 - 2015 год (2016 год учитывать не будем, т.к. скорее всего продажи по нему еще не полные).\n",
    "\n",
    "- Судя по графику и опираясь на то, что жизненный цикл платформы составляет около 10 лет, то потенциально прибыльными можно считать платформы PS4 и xOne. Они будут продаваться еще около 7 лет. Остальные платформы из топ 5 за выбранный период демонстрируют спад продаж.\n",
    "Если рассматривать не топовые платформы, можно братить внимание на платформу WiiU - она вышла в 2012 году и имеет стабильную динамику продаж, которая может сохраняться еще несколько лет. Поэтому ее я также отнесла бы к потенциально прибыльной в своем сегменте.\n",
    "\n",
    "- Построили график «ящик с усами» по глобальным продажам игр в разбивке по потенциально прибыльным платформам.\n",
    "\n",
    "Для всех платформ минимальное значение это 0, т.к. продажи не могут быть отрицательными.\n",
    "Верхний заканчивается около 2,5 у PS4 и XOne и около 1,2 у WiiU — это 1,5 межквартильного размаха, добавленного к 3-му квартилю. Это ориентировочная граница нормального размаха. Всё, что лежит за ней будем считать выбросами.\n",
    "Медиана у PS4 и XOne - около 0,3, а у WiiU - около 0,2.\n",
    "Т.к. зеленая линия стремится вниз, а не в сторону верхнего уса, можно сделать вывод, что выбросы - это достаточно редкое явление для всех платформ.\n",
    "\n",
    "- Проверили, зависят ли продажи платформы PS4 от отзывов пользователей.\n",
    "\n",
    "Для этого, построили диаграмму рассеяния и посчитали корреляцию.\n",
    "Значение корреляции - -0.028820146478203145\n",
    "Как на графике, так и при рассчете корреляции видно, что зависимость отсутствует.\n",
    "\n",
    "- Проверили, зависят ли продажи платформ XOne и WiiU от отзывов пользователей.\n",
    "\n",
    "Для этого, построили диаграмму рассеяния и посчитали корреляцию.\n",
    "Значение корреляции - 0.16141618154008666\n",
    "Как на графике, так и при рассчете корреляции видно, что зависимость отсутствует.\n",
    "\n",
    "- Проверили, зависят ли продажи платформы PS4 от отзывов критиков.\n",
    "\n",
    "Для этого, построили диаграмму рассеяния и посчитали корреляцию.\n",
    "Значение корреляции - 0.4318482049982005\n",
    "Как на графике, так и при рассчете корреляции видно, что зависимость есть, но не высокая.\n",
    "\n",
    "- Проверили, зависят ли продажи платформ XOne и WiiU от отзывов критиков.\n",
    "\n",
    "Для этого, построили диаграмму рассеяния и посчитали корреляцию.\n",
    "Значение корреляции - 0.41397224738362337\n",
    "Как на графике, так и при рассчете корреляции видно, что зависимость есть, но не высокая.\n",
    "\n",
    "Таким образом, можно сделать вывод, что как для выбранной платформы PS4, так и для других прибыльных платформ обьем продаж поожительно зависит от оценок критиков и не зависит от оценок пользователей.\n",
    "\n",
    "- Рассмотрели распределение игр по жанрам.\n",
    "Были построены 2 графика - по суммарным продажам и по медиане. В итоге графики дали различные результаты - \n",
    "по суммарным продажам лидирует \"Action\", а по медианным \"Shooter\".\n",
    "Это может быть связано с тем, что жанр \"Action\" продается больше в количественном измерении и может быть сильно раздут \n",
    "непопулярными и недорогими играми. Более стабильным будет вариант \"Shooter\", лидирующий по медиане.\n",
    "\n",
    "- Составили портрет пользователей в разбивке по регионам\n",
    "\n",
    "Топ5 самых популярных платформ для региона NA:\n",
    "X360 - 25,5% PS3 - 18,8% PS4 - 16% XOne - 14,4% 3DS - 9,4%\n",
    "Т.к. в качестве перспективных для инвестиций мы веделили только PS4 и XOne из данного списка,\n",
    "то можно сделать вывод, что рекомендовать инвестору для региона NA можно и PS4 и XOne т.к. долю рынка они занимают примерно одинаковую.\n",
    "\n",
    "Топ5 самых популярных платформ для региона EU:\n",
    "PS4 - 24% PS3 - 23,2% X360 - 16,2% XOne - 9,2% 3DS - 8,8%\n",
    "Т.к. в качестве перспективных для инвестиций мы веделили только PS4 и XOne из данного списка,\n",
    "то можно сделать вывод, что рекомендовать инвестору для региона EU будем PS4, т.к. доля рынка у нее выше, чем у XOne.\n",
    "\n",
    "Топ5 самых популярных платформ для региона JP:\n",
    "3DS - 46% PS3 - 19,6% PSV - 10,1% WiiU - 7,1% PSP - 6%\n",
    "Т.к. в качестве перспективных для инвестиций мы веделили только WiiU из данного списка,\n",
    "то можно сделать вывод, что рекомендовать инвестору для региона JP будем WiiU, т.к. в другие вкладывать деньги нет смысла.\n",
    "\n",
    "Проанализировав данные всех регионов, видим интересные тенденции:\n",
    "\n",
    "Для регионов NA и EU лидеры это платформа PS (3 и 4е поколение), а также X360. Причем, в регионе NA лидирующее положение занимает платформа X360, когда как в EU - PS.\n",
    "\n",
    "Для региона JP ситуация прямо противоположная - почти половину рынка (46%) занимает платформа 3DS. PS3 находится на 2м месте с существенным отрывом (19,6%), тогда как X360 занимает практически минимальную долю рынка (0,9%).\n",
    "\n",
    "- Оценили популярные жанры в разбивке по регионам\n",
    "\n",
    "На графиках видно, что безусловным лидером в регионах NA и EU является жанр Action, тогда как в регионе JP лидирует жанр Role-Playing, а Action находится на 2м месте. Скорее всего данное различие связано с различием в предпочтениях в регионе JP по сравнению с регионами NA и EU, в которых потребители в основном схожи.\n",
    "\n",
    "- Оценили влияние рейтинга ESRB на продажи в разбивке по регионам\n",
    "\n",
    "Для региона NA 82,6% продаж приходится на категорию с рейтингом.\n",
    "Также, заметным является то, что игры с рейтингом M занимают 39,5%. \n",
    "Согласно этому, нельзя однозначно сказать, что рейтинг ESRB оказывает влияние на продажи в регионе.\n",
    "Возможно, что в регионе NA просто больше игр с рейтингом, чем без рейтинга и в игры больше играют люди категории 18+ (рейтинг игры 18+).\n",
    "Можно сделать вывод о том, что в регионе NA самые популярные игры категории M 39,5% (для взрослых),\n",
    "затем категория E 19,5% (для всех), затем примерно одинаково популярны игры категории E10+ и T (для детей старше 10 лет и тинейджеров соответственно).\n",
    "\n",
    "Для региона EU тенденция и разбивка практически аналогичная.\n",
    "Можно сделать вывод о том, что в регионе EU самые популярные игры категории M 38,9% (для взрослых),\n",
    "затем категория E 21,8% (для всех), затем примерно одинаково популярны игры категории E10+ и T (для детей старше 10 лет и тинейджеров соответственно).\n",
    "\n",
    "Для региона JP более половины продаж приходится на категорию без рейтинга.\n",
    "Это может быть связано с тем, что не все игры в регионе JP проверяются по этому рейтингу (скорее всего это игры, которые создаются в регионе).\n",
    "Поэтому нельзя сказать, что рейтинг ESRB оказывает влияние на продажи в регионе, т.к. игры без рейтинга продаются хорошо.\n",
    "Можно сделать вывод о том, что в регионе JP самые популярные игры категории E 39,5% (для всех),\n",
    "затем категория T 13,7% (для тинейджеров), на 3м месте игры категории M 11,5% (для взрослых) и на 4м E10+ (для детей старше 10 лет). Вместе с тем, существенная доля приходится на игры без рейтинга и в этой категории разбивка вполне может отличаться.\n",
    "\n",
    "- Проверили гипотезы\n",
    "\n",
    "Средние пользовательские рейтинги платформ Xbox One и PC одинаковые - нулевая гипотеза.\n",
    "Средние пользовательские рейтинги платформ Xbox One и PC различаются - альтернативная гипотеза.\n",
    "\n",
    "Нулевая гипотеза подтвердилась.\n",
    "\n",
    "Средние пользовательские рейтинги жанров Action и Sports одинаковые - нулевая гипотеза.\n",
    "Средние пользовательские рейтинги жанров Action и Sports разные - альтернативная гипотеза.\n",
    "\n",
    "Нулевая гипотеза не подтвердилась.\n"
   ]
  }
 ],
 "metadata": {
  "ExecuteTimeLog": [
   {
    "duration": 512,
    "start_time": "2022-11-14T16:46:08.091Z"
   },
   {
    "duration": 70,
    "start_time": "2022-11-14T16:46:17.424Z"
   },
   {
    "duration": 16,
    "start_time": "2022-11-14T16:49:03.832Z"
   },
   {
    "duration": 6,
    "start_time": "2022-11-14T16:59:55.243Z"
   },
   {
    "duration": 74,
    "start_time": "2022-11-14T16:59:58.307Z"
   },
   {
    "duration": 5,
    "start_time": "2022-11-14T17:00:17.024Z"
   },
   {
    "duration": 6,
    "start_time": "2022-11-14T17:00:47.602Z"
   },
   {
    "duration": 6,
    "start_time": "2022-11-14T17:00:50.256Z"
   },
   {
    "duration": 18,
    "start_time": "2022-11-14T17:03:00.913Z"
   },
   {
    "duration": 23,
    "start_time": "2022-11-14T17:03:30.064Z"
   },
   {
    "duration": 13,
    "start_time": "2022-11-14T17:04:29.457Z"
   },
   {
    "duration": 13,
    "start_time": "2022-11-14T17:05:46.658Z"
   },
   {
    "duration": 9,
    "start_time": "2022-11-14T17:06:27.521Z"
   },
   {
    "duration": 6,
    "start_time": "2022-11-14T17:07:21.008Z"
   },
   {
    "duration": 29,
    "start_time": "2022-11-14T17:12:52.352Z"
   },
   {
    "duration": 10,
    "start_time": "2022-11-14T17:13:00.273Z"
   },
   {
    "duration": 13,
    "start_time": "2022-11-14T17:13:44.953Z"
   },
   {
    "duration": 14,
    "start_time": "2022-11-14T17:13:46.919Z"
   },
   {
    "duration": 6,
    "start_time": "2022-11-14T17:14:06.989Z"
   },
   {
    "duration": 6,
    "start_time": "2022-11-14T17:14:20.239Z"
   },
   {
    "duration": 6,
    "start_time": "2022-11-14T17:14:40.248Z"
   },
   {
    "duration": 6,
    "start_time": "2022-11-14T17:41:00.469Z"
   },
   {
    "duration": 9,
    "start_time": "2022-11-14T17:45:32.580Z"
   },
   {
    "duration": 7,
    "start_time": "2022-11-14T17:46:05.581Z"
   },
   {
    "duration": 32,
    "start_time": "2022-11-14T17:54:10.903Z"
   },
   {
    "duration": 29,
    "start_time": "2022-11-14T17:54:27.724Z"
   },
   {
    "duration": 27,
    "start_time": "2022-11-14T17:55:12.527Z"
   },
   {
    "duration": 27,
    "start_time": "2022-11-14T17:55:26.005Z"
   },
   {
    "duration": 13,
    "start_time": "2022-11-14T17:58:50.274Z"
   },
   {
    "duration": 9,
    "start_time": "2022-11-14T17:58:53.210Z"
   },
   {
    "duration": 12,
    "start_time": "2022-11-14T18:01:18.739Z"
   },
   {
    "duration": 10,
    "start_time": "2022-11-14T18:01:23.501Z"
   },
   {
    "duration": 15,
    "start_time": "2022-11-14T18:01:32.382Z"
   },
   {
    "duration": 5,
    "start_time": "2022-11-14T18:10:40.866Z"
   },
   {
    "duration": 6,
    "start_time": "2022-11-14T18:11:45.429Z"
   },
   {
    "duration": 6,
    "start_time": "2022-11-14T18:24:22.460Z"
   },
   {
    "duration": 5,
    "start_time": "2022-11-14T18:25:35.774Z"
   },
   {
    "duration": 7,
    "start_time": "2022-11-14T18:25:39.581Z"
   },
   {
    "duration": 5,
    "start_time": "2022-11-14T18:25:52.335Z"
   },
   {
    "duration": 5,
    "start_time": "2022-11-14T18:25:58.364Z"
   },
   {
    "duration": 4,
    "start_time": "2022-11-14T18:26:18.474Z"
   },
   {
    "duration": 7,
    "start_time": "2022-11-14T18:36:20.674Z"
   },
   {
    "duration": 17,
    "start_time": "2022-11-14T18:36:42.475Z"
   },
   {
    "duration": 6,
    "start_time": "2022-11-14T18:48:00.272Z"
   },
   {
    "duration": 21,
    "start_time": "2022-11-14T18:48:10.553Z"
   },
   {
    "duration": 49,
    "start_time": "2022-11-16T10:46:26.858Z"
   },
   {
    "duration": 533,
    "start_time": "2022-11-16T10:46:33.028Z"
   },
   {
    "duration": 15,
    "start_time": "2022-11-16T10:46:33.563Z"
   },
   {
    "duration": 5,
    "start_time": "2022-11-16T10:46:33.580Z"
   },
   {
    "duration": 9,
    "start_time": "2022-11-16T10:46:33.587Z"
   },
   {
    "duration": 10,
    "start_time": "2022-11-16T10:46:33.597Z"
   },
   {
    "duration": 34,
    "start_time": "2022-11-16T10:46:33.609Z"
   },
   {
    "duration": 8,
    "start_time": "2022-11-16T10:46:33.645Z"
   },
   {
    "duration": 76,
    "start_time": "2022-11-16T10:46:33.655Z"
   },
   {
    "duration": 0,
    "start_time": "2022-11-16T10:46:33.734Z"
   },
   {
    "duration": 0,
    "start_time": "2022-11-16T10:46:33.735Z"
   },
   {
    "duration": 0,
    "start_time": "2022-11-16T10:46:33.736Z"
   },
   {
    "duration": 0,
    "start_time": "2022-11-16T10:46:33.737Z"
   },
   {
    "duration": 0,
    "start_time": "2022-11-16T10:46:33.739Z"
   },
   {
    "duration": 6,
    "start_time": "2022-11-16T10:46:46.067Z"
   },
   {
    "duration": 5,
    "start_time": "2022-11-16T10:47:04.957Z"
   },
   {
    "duration": 5,
    "start_time": "2022-11-16T10:47:06.589Z"
   },
   {
    "duration": 4,
    "start_time": "2022-11-16T10:47:23.275Z"
   },
   {
    "duration": 4,
    "start_time": "2022-11-16T10:47:26.851Z"
   },
   {
    "duration": 5,
    "start_time": "2022-11-16T10:47:31.155Z"
   },
   {
    "duration": 60,
    "start_time": "2022-11-16T10:47:46.837Z"
   },
   {
    "duration": 15,
    "start_time": "2022-11-16T10:47:49.627Z"
   },
   {
    "duration": 4,
    "start_time": "2022-11-16T10:47:53.055Z"
   },
   {
    "duration": 4,
    "start_time": "2022-11-16T10:47:54.646Z"
   },
   {
    "duration": 9,
    "start_time": "2022-11-16T10:47:59.074Z"
   },
   {
    "duration": 11,
    "start_time": "2022-11-16T10:48:03.675Z"
   },
   {
    "duration": 9,
    "start_time": "2022-11-16T10:48:06.520Z"
   },
   {
    "duration": 5,
    "start_time": "2022-11-16T10:48:12.602Z"
   },
   {
    "duration": 5,
    "start_time": "2022-11-16T10:48:22.867Z"
   },
   {
    "duration": 6,
    "start_time": "2022-11-16T10:48:26.683Z"
   },
   {
    "duration": 59,
    "start_time": "2022-11-16T10:48:55.298Z"
   },
   {
    "duration": 14,
    "start_time": "2022-11-16T10:48:58.775Z"
   },
   {
    "duration": 6,
    "start_time": "2022-11-16T10:49:01.819Z"
   },
   {
    "duration": 4,
    "start_time": "2022-11-16T10:49:05.210Z"
   },
   {
    "duration": 8,
    "start_time": "2022-11-16T10:49:07.715Z"
   },
   {
    "duration": 11,
    "start_time": "2022-11-16T10:49:11.075Z"
   },
   {
    "duration": 9,
    "start_time": "2022-11-16T10:49:13.434Z"
   },
   {
    "duration": 5,
    "start_time": "2022-11-16T10:49:18.146Z"
   },
   {
    "duration": 4,
    "start_time": "2022-11-16T10:49:28.363Z"
   },
   {
    "duration": 6,
    "start_time": "2022-11-16T10:49:30.613Z"
   },
   {
    "duration": 9,
    "start_time": "2022-11-16T10:50:15.172Z"
   },
   {
    "duration": 6,
    "start_time": "2022-11-16T10:51:49.340Z"
   },
   {
    "duration": 15,
    "start_time": "2022-11-16T10:51:51.483Z"
   },
   {
    "duration": 74,
    "start_time": "2022-11-16T10:59:48.425Z"
   },
   {
    "duration": 75,
    "start_time": "2022-11-16T10:59:59.371Z"
   },
   {
    "duration": 67,
    "start_time": "2022-11-16T11:00:08.660Z"
   },
   {
    "duration": 67,
    "start_time": "2022-11-16T11:00:59.213Z"
   },
   {
    "duration": 75,
    "start_time": "2022-11-16T11:01:07.955Z"
   },
   {
    "duration": 4,
    "start_time": "2022-11-16T11:01:19.642Z"
   },
   {
    "duration": 5,
    "start_time": "2022-11-16T11:01:23.141Z"
   },
   {
    "duration": 5,
    "start_time": "2022-11-16T11:01:32.411Z"
   },
   {
    "duration": 5,
    "start_time": "2022-11-16T11:01:35.171Z"
   },
   {
    "duration": 70,
    "start_time": "2022-11-16T11:02:05.718Z"
   },
   {
    "duration": 69,
    "start_time": "2022-11-16T11:02:14.252Z"
   },
   {
    "duration": 5,
    "start_time": "2022-11-16T11:04:35.299Z"
   },
   {
    "duration": 5,
    "start_time": "2022-11-16T11:04:38.155Z"
   },
   {
    "duration": 56,
    "start_time": "2022-11-16T11:06:50.017Z"
   },
   {
    "duration": 15,
    "start_time": "2022-11-16T11:06:52.457Z"
   },
   {
    "duration": 4,
    "start_time": "2022-11-16T11:07:41.794Z"
   },
   {
    "duration": 6,
    "start_time": "2022-11-16T11:07:55.451Z"
   },
   {
    "duration": 5,
    "start_time": "2022-11-16T11:08:14.673Z"
   },
   {
    "duration": 5,
    "start_time": "2022-11-16T11:09:10.026Z"
   },
   {
    "duration": 42,
    "start_time": "2022-11-17T09:56:09.225Z"
   },
   {
    "duration": 517,
    "start_time": "2022-11-17T09:56:18.792Z"
   },
   {
    "duration": 13,
    "start_time": "2022-11-17T09:56:19.312Z"
   },
   {
    "duration": 6,
    "start_time": "2022-11-17T09:56:19.327Z"
   },
   {
    "duration": 7,
    "start_time": "2022-11-17T09:56:19.336Z"
   },
   {
    "duration": 11,
    "start_time": "2022-11-17T09:56:19.344Z"
   },
   {
    "duration": 13,
    "start_time": "2022-11-17T09:56:19.357Z"
   },
   {
    "duration": 11,
    "start_time": "2022-11-17T09:56:19.371Z"
   },
   {
    "duration": 7,
    "start_time": "2022-11-17T09:56:19.384Z"
   },
   {
    "duration": 12,
    "start_time": "2022-11-17T09:56:19.393Z"
   },
   {
    "duration": 11,
    "start_time": "2022-11-17T09:56:19.407Z"
   },
   {
    "duration": 17,
    "start_time": "2022-11-17T09:56:19.420Z"
   },
   {
    "duration": 4,
    "start_time": "2022-11-17T09:56:19.439Z"
   },
   {
    "duration": 18,
    "start_time": "2022-11-17T09:56:19.444Z"
   },
   {
    "duration": 78,
    "start_time": "2022-11-17T09:56:19.463Z"
   },
   {
    "duration": 12,
    "start_time": "2022-11-17T09:57:48.346Z"
   },
   {
    "duration": 12,
    "start_time": "2022-11-17T09:57:52.997Z"
   },
   {
    "duration": 14,
    "start_time": "2022-11-17T09:58:03.481Z"
   },
   {
    "duration": 15,
    "start_time": "2022-11-17T09:58:15.326Z"
   },
   {
    "duration": 23,
    "start_time": "2022-11-17T09:58:24.875Z"
   },
   {
    "duration": 14,
    "start_time": "2022-11-17T09:59:02.584Z"
   },
   {
    "duration": 261,
    "start_time": "2022-11-17T10:23:38.691Z"
   },
   {
    "duration": 281,
    "start_time": "2022-11-17T10:24:05.324Z"
   },
   {
    "duration": 259,
    "start_time": "2022-11-17T10:24:21.858Z"
   },
   {
    "duration": 253,
    "start_time": "2022-11-17T10:24:40.131Z"
   },
   {
    "duration": 249,
    "start_time": "2022-11-17T10:24:52.481Z"
   },
   {
    "duration": 12,
    "start_time": "2022-11-17T10:26:04.315Z"
   },
   {
    "duration": 16,
    "start_time": "2022-11-17T10:26:38.468Z"
   },
   {
    "duration": 6,
    "start_time": "2022-11-17T10:27:32.406Z"
   },
   {
    "duration": 310,
    "start_time": "2022-11-17T10:27:36.939Z"
   },
   {
    "duration": 238,
    "start_time": "2022-11-17T10:28:41.013Z"
   },
   {
    "duration": 15,
    "start_time": "2022-11-17T10:47:49.146Z"
   },
   {
    "duration": 157,
    "start_time": "2022-11-17T10:47:53.687Z"
   },
   {
    "duration": 609,
    "start_time": "2022-11-17T16:39:15.314Z"
   },
   {
    "duration": 13,
    "start_time": "2022-11-17T16:39:15.925Z"
   },
   {
    "duration": 5,
    "start_time": "2022-11-17T16:39:15.945Z"
   },
   {
    "duration": 9,
    "start_time": "2022-11-17T16:39:15.953Z"
   },
   {
    "duration": 13,
    "start_time": "2022-11-17T16:39:15.963Z"
   },
   {
    "duration": 27,
    "start_time": "2022-11-17T16:39:15.977Z"
   },
   {
    "duration": 8,
    "start_time": "2022-11-17T16:39:16.006Z"
   },
   {
    "duration": 11,
    "start_time": "2022-11-17T16:39:16.015Z"
   },
   {
    "duration": 8,
    "start_time": "2022-11-17T16:39:16.027Z"
   },
   {
    "duration": 14,
    "start_time": "2022-11-17T16:39:16.037Z"
   },
   {
    "duration": 20,
    "start_time": "2022-11-17T16:39:16.053Z"
   },
   {
    "duration": 4,
    "start_time": "2022-11-17T16:39:16.075Z"
   },
   {
    "duration": 6,
    "start_time": "2022-11-17T16:39:16.097Z"
   },
   {
    "duration": 715,
    "start_time": "2022-11-17T16:39:16.105Z"
   },
   {
    "duration": 177,
    "start_time": "2022-11-17T16:39:16.822Z"
   },
   {
    "duration": 890,
    "start_time": "2022-11-17T16:43:11.129Z"
   },
   {
    "duration": 922,
    "start_time": "2022-11-17T16:44:02.863Z"
   },
   {
    "duration": 10,
    "start_time": "2022-11-17T16:44:40.767Z"
   },
   {
    "duration": 16,
    "start_time": "2022-11-17T16:44:50.017Z"
   },
   {
    "duration": 388,
    "start_time": "2022-11-17T16:53:42.540Z"
   },
   {
    "duration": 339,
    "start_time": "2022-11-17T16:54:39.813Z"
   },
   {
    "duration": 289,
    "start_time": "2022-11-17T17:01:23.959Z"
   },
   {
    "duration": 213,
    "start_time": "2022-11-17T17:02:32.619Z"
   },
   {
    "duration": 387,
    "start_time": "2022-11-17T17:06:54.786Z"
   },
   {
    "duration": 257,
    "start_time": "2022-11-17T17:23:45.931Z"
   },
   {
    "duration": 49,
    "start_time": "2022-11-17T17:25:35.992Z"
   },
   {
    "duration": 226,
    "start_time": "2022-11-17T17:27:42.138Z"
   },
   {
    "duration": 256,
    "start_time": "2022-11-17T17:32:40.194Z"
   },
   {
    "duration": 297,
    "start_time": "2022-11-17T17:36:19.738Z"
   },
   {
    "duration": 62,
    "start_time": "2022-11-17T17:39:52.602Z"
   },
   {
    "duration": 9,
    "start_time": "2022-11-17T17:39:58.136Z"
   },
   {
    "duration": 239,
    "start_time": "2022-11-17T17:40:17.423Z"
   },
   {
    "duration": 285,
    "start_time": "2022-11-17T17:41:14.848Z"
   },
   {
    "duration": 253,
    "start_time": "2022-11-17T17:42:18.618Z"
   },
   {
    "duration": 232,
    "start_time": "2022-11-17T17:42:38.357Z"
   },
   {
    "duration": 21,
    "start_time": "2022-11-17T17:43:15.137Z"
   },
   {
    "duration": 233,
    "start_time": "2022-11-17T17:43:24.226Z"
   },
   {
    "duration": 250,
    "start_time": "2022-11-17T17:44:30.931Z"
   },
   {
    "duration": 253,
    "start_time": "2022-11-17T17:46:42.393Z"
   },
   {
    "duration": 279,
    "start_time": "2022-11-17T17:47:29.025Z"
   },
   {
    "duration": 298,
    "start_time": "2022-11-17T17:47:56.776Z"
   },
   {
    "duration": 282,
    "start_time": "2022-11-17T17:48:47.089Z"
   },
   {
    "duration": 337,
    "start_time": "2022-11-17T17:49:02.628Z"
   },
   {
    "duration": 275,
    "start_time": "2022-11-17T17:49:19.077Z"
   },
   {
    "duration": 278,
    "start_time": "2022-11-17T17:51:59.987Z"
   },
   {
    "duration": 348,
    "start_time": "2022-11-17T17:54:06.990Z"
   },
   {
    "duration": 207,
    "start_time": "2022-11-17T17:56:30.435Z"
   },
   {
    "duration": 228,
    "start_time": "2022-11-17T17:57:54.661Z"
   },
   {
    "duration": 255,
    "start_time": "2022-11-17T17:58:17.947Z"
   },
   {
    "duration": 275,
    "start_time": "2022-11-17T17:58:47.354Z"
   },
   {
    "duration": 287,
    "start_time": "2022-11-17T17:59:08.537Z"
   },
   {
    "duration": 257,
    "start_time": "2022-11-17T17:59:40.618Z"
   },
   {
    "duration": 387,
    "start_time": "2022-11-17T18:04:49.796Z"
   },
   {
    "duration": 294,
    "start_time": "2022-11-17T18:05:31.778Z"
   },
   {
    "duration": 295,
    "start_time": "2022-11-17T18:06:00.681Z"
   },
   {
    "duration": 307,
    "start_time": "2022-11-17T18:06:19.470Z"
   },
   {
    "duration": 245,
    "start_time": "2022-11-17T18:06:46.914Z"
   },
   {
    "duration": 251,
    "start_time": "2022-11-17T18:12:43.422Z"
   },
   {
    "duration": 265,
    "start_time": "2022-11-17T18:13:53.816Z"
   },
   {
    "duration": 250,
    "start_time": "2022-11-17T18:14:14.037Z"
   },
   {
    "duration": 10,
    "start_time": "2022-11-17T18:24:14.762Z"
   },
   {
    "duration": 63,
    "start_time": "2022-11-17T18:38:59.006Z"
   },
   {
    "duration": 58,
    "start_time": "2022-11-17T18:39:35.413Z"
   },
   {
    "duration": 66,
    "start_time": "2022-11-17T18:40:08.386Z"
   },
   {
    "duration": 59,
    "start_time": "2022-11-17T18:40:31.690Z"
   },
   {
    "duration": 16,
    "start_time": "2022-11-17T18:43:31.576Z"
   },
   {
    "duration": 59,
    "start_time": "2022-11-17T18:44:03.125Z"
   },
   {
    "duration": 530,
    "start_time": "2022-11-18T09:38:03.179Z"
   },
   {
    "duration": 13,
    "start_time": "2022-11-18T09:38:03.711Z"
   },
   {
    "duration": 4,
    "start_time": "2022-11-18T09:38:03.726Z"
   },
   {
    "duration": 16,
    "start_time": "2022-11-18T09:38:03.731Z"
   },
   {
    "duration": 9,
    "start_time": "2022-11-18T09:38:03.749Z"
   },
   {
    "duration": 14,
    "start_time": "2022-11-18T09:38:03.759Z"
   },
   {
    "duration": 8,
    "start_time": "2022-11-18T09:38:03.774Z"
   },
   {
    "duration": 23,
    "start_time": "2022-11-18T09:38:03.783Z"
   },
   {
    "duration": 20,
    "start_time": "2022-11-18T09:38:03.808Z"
   },
   {
    "duration": 12,
    "start_time": "2022-11-18T09:38:03.830Z"
   },
   {
    "duration": 12,
    "start_time": "2022-11-18T09:38:03.843Z"
   },
   {
    "duration": 3,
    "start_time": "2022-11-18T09:38:03.857Z"
   },
   {
    "duration": 7,
    "start_time": "2022-11-18T09:38:03.861Z"
   },
   {
    "duration": 630,
    "start_time": "2022-11-18T09:38:03.870Z"
   },
   {
    "duration": 310,
    "start_time": "2022-11-18T09:38:04.505Z"
   },
   {
    "duration": 293,
    "start_time": "2022-11-18T09:38:04.817Z"
   },
   {
    "duration": 316,
    "start_time": "2022-11-18T09:38:05.112Z"
   },
   {
    "duration": 196,
    "start_time": "2022-11-18T09:40:35.223Z"
   },
   {
    "duration": 201,
    "start_time": "2022-11-18T09:43:11.750Z"
   },
   {
    "duration": 191,
    "start_time": "2022-11-18T09:43:19.533Z"
   },
   {
    "duration": 831,
    "start_time": "2022-11-18T16:09:31.391Z"
   },
   {
    "duration": 12,
    "start_time": "2022-11-18T16:09:32.224Z"
   },
   {
    "duration": 8,
    "start_time": "2022-11-18T16:09:32.237Z"
   },
   {
    "duration": 5,
    "start_time": "2022-11-18T16:09:32.246Z"
   },
   {
    "duration": 8,
    "start_time": "2022-11-18T16:09:32.253Z"
   },
   {
    "duration": 11,
    "start_time": "2022-11-18T16:09:32.263Z"
   },
   {
    "duration": 9,
    "start_time": "2022-11-18T16:09:32.275Z"
   },
   {
    "duration": 7,
    "start_time": "2022-11-18T16:09:32.286Z"
   },
   {
    "duration": 6,
    "start_time": "2022-11-18T16:09:32.294Z"
   },
   {
    "duration": 10,
    "start_time": "2022-11-18T16:09:32.302Z"
   },
   {
    "duration": 13,
    "start_time": "2022-11-18T16:09:32.313Z"
   },
   {
    "duration": 27,
    "start_time": "2022-11-18T16:09:32.327Z"
   },
   {
    "duration": 12,
    "start_time": "2022-11-18T16:09:32.356Z"
   },
   {
    "duration": 683,
    "start_time": "2022-11-18T16:09:32.371Z"
   },
   {
    "duration": 294,
    "start_time": "2022-11-18T16:09:33.056Z"
   },
   {
    "duration": 292,
    "start_time": "2022-11-18T16:09:33.353Z"
   },
   {
    "duration": 293,
    "start_time": "2022-11-18T16:09:33.652Z"
   },
   {
    "duration": 195,
    "start_time": "2022-11-18T16:09:33.947Z"
   },
   {
    "duration": 198,
    "start_time": "2022-11-18T16:09:34.876Z"
   },
   {
    "duration": 190,
    "start_time": "2022-11-18T16:12:13.160Z"
   },
   {
    "duration": 195,
    "start_time": "2022-11-18T16:12:36.136Z"
   },
   {
    "duration": 603,
    "start_time": "2022-11-18T16:15:07.904Z"
   },
   {
    "duration": 234,
    "start_time": "2022-11-18T16:19:40.009Z"
   },
   {
    "duration": 193,
    "start_time": "2022-11-18T16:20:28.736Z"
   },
   {
    "duration": 288,
    "start_time": "2022-11-18T16:21:20.231Z"
   },
   {
    "duration": 199,
    "start_time": "2022-11-18T16:22:12.679Z"
   },
   {
    "duration": 211,
    "start_time": "2022-11-18T16:26:06.914Z"
   },
   {
    "duration": 250,
    "start_time": "2022-11-18T16:26:24.502Z"
   },
   {
    "duration": 218,
    "start_time": "2022-11-18T16:26:59.788Z"
   },
   {
    "duration": 343,
    "start_time": "2022-11-18T16:38:56.342Z"
   },
   {
    "duration": 243,
    "start_time": "2022-11-18T16:40:12.433Z"
   },
   {
    "duration": 231,
    "start_time": "2022-11-18T16:40:28.415Z"
   },
   {
    "duration": 228,
    "start_time": "2022-11-18T16:41:19.055Z"
   },
   {
    "duration": 171,
    "start_time": "2022-11-18T17:22:44.006Z"
   },
   {
    "duration": 288,
    "start_time": "2022-11-18T17:23:03.149Z"
   },
   {
    "duration": 149,
    "start_time": "2022-11-18T17:24:26.619Z"
   },
   {
    "duration": 146,
    "start_time": "2022-11-18T17:25:34.781Z"
   },
   {
    "duration": 143,
    "start_time": "2022-11-18T17:25:42.609Z"
   },
   {
    "duration": 148,
    "start_time": "2022-11-18T17:26:31.726Z"
   },
   {
    "duration": 156,
    "start_time": "2022-11-18T17:27:15.423Z"
   },
   {
    "duration": 242,
    "start_time": "2022-11-18T17:27:35.992Z"
   },
   {
    "duration": 160,
    "start_time": "2022-11-18T17:27:42.152Z"
   },
   {
    "duration": 153,
    "start_time": "2022-11-18T17:28:03.742Z"
   },
   {
    "duration": 633,
    "start_time": "2022-11-18T17:29:57.155Z"
   },
   {
    "duration": 299,
    "start_time": "2022-11-18T17:30:06.338Z"
   },
   {
    "duration": 195,
    "start_time": "2022-11-18T17:30:17.895Z"
   },
   {
    "duration": 222,
    "start_time": "2022-11-18T17:30:26.184Z"
   },
   {
    "duration": 187,
    "start_time": "2022-11-18T17:30:39.502Z"
   },
   {
    "duration": 192,
    "start_time": "2022-11-18T17:32:09.737Z"
   },
   {
    "duration": 190,
    "start_time": "2022-11-18T17:34:32.269Z"
   },
   {
    "duration": 168,
    "start_time": "2022-11-18T17:35:17.502Z"
   },
   {
    "duration": 160,
    "start_time": "2022-11-18T17:35:27.575Z"
   },
   {
    "duration": 164,
    "start_time": "2022-11-18T17:35:38.493Z"
   },
   {
    "duration": 166,
    "start_time": "2022-11-18T17:35:52.998Z"
   },
   {
    "duration": 75,
    "start_time": "2022-11-18T17:39:54.581Z"
   },
   {
    "duration": 57,
    "start_time": "2022-11-18T17:41:13.218Z"
   },
   {
    "duration": 42,
    "start_time": "2022-11-18T17:47:45.061Z"
   },
   {
    "duration": 1310,
    "start_time": "2022-11-18T18:14:41.211Z"
   },
   {
    "duration": 1312,
    "start_time": "2022-11-18T18:15:03.047Z"
   },
   {
    "duration": 1191,
    "start_time": "2022-11-18T18:15:35.616Z"
   },
   {
    "duration": 30,
    "start_time": "2022-11-18T18:17:00.182Z"
   },
   {
    "duration": 27,
    "start_time": "2022-11-18T18:19:36.744Z"
   },
   {
    "duration": 68,
    "start_time": "2022-11-18T18:24:14.670Z"
   },
   {
    "duration": 29,
    "start_time": "2022-11-18T18:25:04.853Z"
   },
   {
    "duration": 12,
    "start_time": "2022-11-18T18:26:15.332Z"
   },
   {
    "duration": 33,
    "start_time": "2022-11-18T18:26:33.375Z"
   },
   {
    "duration": 56,
    "start_time": "2022-11-18T18:26:42.897Z"
   },
   {
    "duration": 14,
    "start_time": "2022-11-18T18:26:45.406Z"
   },
   {
    "duration": 4,
    "start_time": "2022-11-18T18:26:49.889Z"
   },
   {
    "duration": 4,
    "start_time": "2022-11-18T18:26:52.211Z"
   },
   {
    "duration": 9,
    "start_time": "2022-11-18T18:26:55.590Z"
   },
   {
    "duration": 11,
    "start_time": "2022-11-18T18:26:58.541Z"
   },
   {
    "duration": 11,
    "start_time": "2022-11-18T18:27:00.954Z"
   },
   {
    "duration": 4,
    "start_time": "2022-11-18T18:27:04.647Z"
   },
   {
    "duration": 4,
    "start_time": "2022-11-18T18:27:06.527Z"
   },
   {
    "duration": 7,
    "start_time": "2022-11-18T18:27:09.558Z"
   },
   {
    "duration": 14,
    "start_time": "2022-11-18T18:27:13.590Z"
   },
   {
    "duration": 4,
    "start_time": "2022-11-18T18:27:17.057Z"
   },
   {
    "duration": 6,
    "start_time": "2022-11-18T18:27:20.356Z"
   },
   {
    "duration": 236,
    "start_time": "2022-11-18T18:27:23.662Z"
   },
   {
    "duration": 233,
    "start_time": "2022-11-18T18:27:38.767Z"
   },
   {
    "duration": 311,
    "start_time": "2022-11-18T18:28:27.791Z"
   },
   {
    "duration": 238,
    "start_time": "2022-11-18T18:28:34.676Z"
   },
   {
    "duration": 221,
    "start_time": "2022-11-18T18:28:39.486Z"
   },
   {
    "duration": 179,
    "start_time": "2022-11-18T18:28:44.725Z"
   },
   {
    "duration": 188,
    "start_time": "2022-11-18T18:28:50.636Z"
   },
   {
    "duration": 282,
    "start_time": "2022-11-18T18:28:55.759Z"
   },
   {
    "duration": 160,
    "start_time": "2022-11-18T18:29:01.476Z"
   },
   {
    "duration": 153,
    "start_time": "2022-11-18T18:29:07.311Z"
   },
   {
    "duration": 154,
    "start_time": "2022-11-18T18:30:10.084Z"
   },
   {
    "duration": 168,
    "start_time": "2022-11-18T18:30:51.355Z"
   },
   {
    "duration": 172,
    "start_time": "2022-11-18T18:31:24.468Z"
   },
   {
    "duration": 9,
    "start_time": "2022-11-18T18:33:15.327Z"
   },
   {
    "duration": 154,
    "start_time": "2022-11-18T18:34:52.724Z"
   },
   {
    "duration": 194,
    "start_time": "2022-11-18T18:35:02.390Z"
   },
   {
    "duration": 158,
    "start_time": "2022-11-18T18:35:08.327Z"
   },
   {
    "duration": 154,
    "start_time": "2022-11-18T18:35:15.138Z"
   },
   {
    "duration": 171,
    "start_time": "2022-11-18T18:35:19.813Z"
   },
   {
    "duration": 251,
    "start_time": "2022-11-18T18:35:34.085Z"
   },
   {
    "duration": 160,
    "start_time": "2022-11-18T18:36:55.765Z"
   },
   {
    "duration": 9,
    "start_time": "2022-11-18T18:38:07.740Z"
   },
   {
    "duration": 182,
    "start_time": "2022-11-18T18:40:04.145Z"
   },
   {
    "duration": 168,
    "start_time": "2022-11-18T18:40:32.539Z"
   },
   {
    "duration": 164,
    "start_time": "2022-11-18T18:43:21.077Z"
   },
   {
    "duration": 165,
    "start_time": "2022-11-18T18:43:50.615Z"
   },
   {
    "duration": 163,
    "start_time": "2022-11-18T18:44:31.989Z"
   },
   {
    "duration": 107,
    "start_time": "2022-11-18T18:50:31.219Z"
   },
   {
    "duration": 14,
    "start_time": "2022-11-18T18:53:50.716Z"
   },
   {
    "duration": 14,
    "start_time": "2022-11-18T18:54:08.334Z"
   },
   {
    "duration": 14,
    "start_time": "2022-11-18T18:54:28.461Z"
   },
   {
    "duration": 15,
    "start_time": "2022-11-18T18:54:43.739Z"
   },
   {
    "duration": 580,
    "start_time": "2022-11-18T19:05:47.223Z"
   },
   {
    "duration": 72,
    "start_time": "2022-11-18T19:06:37.684Z"
   },
   {
    "duration": 18,
    "start_time": "2022-11-18T19:06:44.605Z"
   },
   {
    "duration": 739,
    "start_time": "2022-11-18T19:07:41.700Z"
   },
   {
    "duration": 11,
    "start_time": "2022-11-18T19:20:25.715Z"
   },
   {
    "duration": 193,
    "start_time": "2022-11-18T19:21:51.333Z"
   },
   {
    "duration": 10,
    "start_time": "2022-11-18T19:22:41.701Z"
   },
   {
    "duration": 1164,
    "start_time": "2022-11-18T19:27:18.779Z"
   },
   {
    "duration": 58,
    "start_time": "2022-11-18T19:27:28.235Z"
   },
   {
    "duration": 13,
    "start_time": "2022-11-18T19:27:30.123Z"
   },
   {
    "duration": 4,
    "start_time": "2022-11-18T19:27:34.722Z"
   },
   {
    "duration": 4,
    "start_time": "2022-11-18T19:27:35.939Z"
   },
   {
    "duration": 7,
    "start_time": "2022-11-18T19:27:38.699Z"
   },
   {
    "duration": 13,
    "start_time": "2022-11-18T19:27:42.388Z"
   },
   {
    "duration": 21,
    "start_time": "2022-11-18T19:28:00.083Z"
   },
   {
    "duration": 59,
    "start_time": "2022-11-18T19:28:58.246Z"
   },
   {
    "duration": 13,
    "start_time": "2022-11-18T19:29:00.363Z"
   },
   {
    "duration": 5,
    "start_time": "2022-11-18T19:29:03.760Z"
   },
   {
    "duration": 4,
    "start_time": "2022-11-18T19:29:05.547Z"
   },
   {
    "duration": 7,
    "start_time": "2022-11-18T19:29:10.370Z"
   },
   {
    "duration": 11,
    "start_time": "2022-11-18T19:29:14.140Z"
   },
   {
    "duration": 7,
    "start_time": "2022-11-18T19:29:15.818Z"
   },
   {
    "duration": 4,
    "start_time": "2022-11-18T19:29:18.870Z"
   },
   {
    "duration": 3,
    "start_time": "2022-11-18T19:29:21.011Z"
   },
   {
    "duration": 8,
    "start_time": "2022-11-18T19:29:23.600Z"
   },
   {
    "duration": 4,
    "start_time": "2022-11-18T19:29:27.946Z"
   },
   {
    "duration": 5,
    "start_time": "2022-11-18T19:29:30.413Z"
   },
   {
    "duration": 325,
    "start_time": "2022-11-18T19:29:33.157Z"
   },
   {
    "duration": 343,
    "start_time": "2022-11-18T19:29:37.915Z"
   },
   {
    "duration": 309,
    "start_time": "2022-11-18T19:29:41.450Z"
   },
   {
    "duration": 309,
    "start_time": "2022-11-18T19:29:45.363Z"
   },
   {
    "duration": 213,
    "start_time": "2022-11-18T19:29:50.127Z"
   },
   {
    "duration": 326,
    "start_time": "2022-11-18T19:29:53.634Z"
   },
   {
    "duration": 239,
    "start_time": "2022-11-18T19:29:57.596Z"
   },
   {
    "duration": 198,
    "start_time": "2022-11-18T19:30:02.298Z"
   },
   {
    "duration": 192,
    "start_time": "2022-11-18T19:30:07.445Z"
   },
   {
    "duration": 9,
    "start_time": "2022-11-18T19:30:13.715Z"
   },
   {
    "duration": 191,
    "start_time": "2022-11-18T19:30:15.731Z"
   },
   {
    "duration": 196,
    "start_time": "2022-11-18T19:30:20.420Z"
   },
   {
    "duration": 11,
    "start_time": "2022-11-18T19:30:26.330Z"
   },
   {
    "duration": 192,
    "start_time": "2022-11-18T19:30:36.004Z"
   },
   {
    "duration": 11,
    "start_time": "2022-11-18T19:30:44.985Z"
   },
   {
    "duration": 229,
    "start_time": "2022-11-18T19:30:47.884Z"
   },
   {
    "duration": 620,
    "start_time": "2022-11-19T10:13:53.165Z"
   },
   {
    "duration": 21,
    "start_time": "2022-11-19T10:13:53.787Z"
   },
   {
    "duration": 6,
    "start_time": "2022-11-19T10:13:53.809Z"
   },
   {
    "duration": 17,
    "start_time": "2022-11-19T10:13:53.817Z"
   },
   {
    "duration": 14,
    "start_time": "2022-11-19T10:13:53.837Z"
   },
   {
    "duration": 34,
    "start_time": "2022-11-19T10:13:53.853Z"
   },
   {
    "duration": 11,
    "start_time": "2022-11-19T10:13:53.889Z"
   },
   {
    "duration": 6,
    "start_time": "2022-11-19T10:13:53.902Z"
   },
   {
    "duration": 7,
    "start_time": "2022-11-19T10:13:53.909Z"
   },
   {
    "duration": 13,
    "start_time": "2022-11-19T10:13:53.917Z"
   },
   {
    "duration": 12,
    "start_time": "2022-11-19T10:13:53.932Z"
   },
   {
    "duration": 31,
    "start_time": "2022-11-19T10:13:53.945Z"
   },
   {
    "duration": 7,
    "start_time": "2022-11-19T10:13:53.978Z"
   },
   {
    "duration": 675,
    "start_time": "2022-11-19T10:13:53.988Z"
   },
   {
    "duration": 425,
    "start_time": "2022-11-19T10:13:54.665Z"
   },
   {
    "duration": 365,
    "start_time": "2022-11-19T10:13:55.092Z"
   },
   {
    "duration": 336,
    "start_time": "2022-11-19T10:13:55.459Z"
   },
   {
    "duration": 222,
    "start_time": "2022-11-19T10:13:55.797Z"
   },
   {
    "duration": 244,
    "start_time": "2022-11-19T10:13:56.020Z"
   },
   {
    "duration": 230,
    "start_time": "2022-11-19T10:13:56.266Z"
   },
   {
    "duration": 217,
    "start_time": "2022-11-19T10:13:56.500Z"
   },
   {
    "duration": 193,
    "start_time": "2022-11-19T10:13:56.719Z"
   },
   {
    "duration": 12,
    "start_time": "2022-11-19T10:13:56.914Z"
   },
   {
    "duration": 218,
    "start_time": "2022-11-19T10:13:56.928Z"
   },
   {
    "duration": 14,
    "start_time": "2022-11-19T10:13:57.148Z"
   },
   {
    "duration": 62,
    "start_time": "2022-11-19T10:13:57.164Z"
   },
   {
    "duration": 0,
    "start_time": "2022-11-19T10:13:57.228Z"
   },
   {
    "duration": 0,
    "start_time": "2022-11-19T10:13:57.230Z"
   },
   {
    "duration": 0,
    "start_time": "2022-11-19T10:13:57.231Z"
   },
   {
    "duration": 0,
    "start_time": "2022-11-19T10:13:57.233Z"
   },
   {
    "duration": 0,
    "start_time": "2022-11-19T10:13:57.234Z"
   },
   {
    "duration": 210,
    "start_time": "2022-11-19T10:14:15.881Z"
   },
   {
    "duration": 192,
    "start_time": "2022-11-19T10:14:44.156Z"
   },
   {
    "duration": 9,
    "start_time": "2022-11-19T10:14:48.115Z"
   },
   {
    "duration": 251,
    "start_time": "2022-11-19T10:14:50.611Z"
   },
   {
    "duration": 10,
    "start_time": "2022-11-19T10:14:54.668Z"
   },
   {
    "duration": 201,
    "start_time": "2022-11-19T10:14:59.011Z"
   },
   {
    "duration": 56,
    "start_time": "2022-11-19T15:26:50.345Z"
   },
   {
    "duration": 631,
    "start_time": "2022-11-19T15:27:00.952Z"
   },
   {
    "duration": 16,
    "start_time": "2022-11-19T15:27:03.870Z"
   },
   {
    "duration": 5,
    "start_time": "2022-11-19T15:27:06.935Z"
   },
   {
    "duration": 5,
    "start_time": "2022-11-19T15:27:08.519Z"
   },
   {
    "duration": 8,
    "start_time": "2022-11-19T15:27:12.004Z"
   },
   {
    "duration": 14,
    "start_time": "2022-11-19T15:27:15.325Z"
   },
   {
    "duration": 8,
    "start_time": "2022-11-19T15:27:17.103Z"
   },
   {
    "duration": 5,
    "start_time": "2022-11-19T15:27:21.075Z"
   },
   {
    "duration": 4,
    "start_time": "2022-11-19T15:27:23.284Z"
   },
   {
    "duration": 8,
    "start_time": "2022-11-19T15:27:25.129Z"
   },
   {
    "duration": 14,
    "start_time": "2022-11-19T15:27:28.542Z"
   },
   {
    "duration": 4,
    "start_time": "2022-11-19T15:27:31.239Z"
   },
   {
    "duration": 6,
    "start_time": "2022-11-19T15:27:33.794Z"
   },
   {
    "duration": 759,
    "start_time": "2022-11-19T15:27:38.034Z"
   },
   {
    "duration": 266,
    "start_time": "2022-11-19T15:27:50.084Z"
   },
   {
    "duration": 383,
    "start_time": "2022-11-19T15:27:53.773Z"
   },
   {
    "duration": 247,
    "start_time": "2022-11-19T15:27:57.855Z"
   },
   {
    "duration": 331,
    "start_time": "2022-11-19T15:28:01.949Z"
   },
   {
    "duration": 201,
    "start_time": "2022-11-19T15:28:05.939Z"
   },
   {
    "duration": 269,
    "start_time": "2022-11-19T15:28:09.582Z"
   },
   {
    "duration": 238,
    "start_time": "2022-11-19T15:28:14.781Z"
   },
   {
    "duration": 186,
    "start_time": "2022-11-19T15:28:20.180Z"
   },
   {
    "duration": 199,
    "start_time": "2022-11-19T15:28:28.741Z"
   },
   {
    "duration": 9,
    "start_time": "2022-11-19T15:28:31.781Z"
   },
   {
    "duration": 175,
    "start_time": "2022-11-19T15:28:34.358Z"
   },
   {
    "duration": 9,
    "start_time": "2022-11-19T15:28:37.278Z"
   },
   {
    "duration": 185,
    "start_time": "2022-11-19T15:28:40.692Z"
   },
   {
    "duration": 11,
    "start_time": "2022-11-19T15:28:43.936Z"
   },
   {
    "duration": 254,
    "start_time": "2022-11-19T15:28:46.989Z"
   },
   {
    "duration": 236,
    "start_time": "2022-11-19T15:28:51.494Z"
   },
   {
    "duration": 207,
    "start_time": "2022-11-19T15:28:55.318Z"
   },
   {
    "duration": 20,
    "start_time": "2022-11-19T15:30:15.093Z"
   },
   {
    "duration": 21,
    "start_time": "2022-11-19T15:33:40.694Z"
   },
   {
    "duration": 27,
    "start_time": "2022-11-19T15:37:53.358Z"
   },
   {
    "duration": 52,
    "start_time": "2022-11-19T15:38:37.047Z"
   },
   {
    "duration": 23,
    "start_time": "2022-11-19T15:38:47.820Z"
   },
   {
    "duration": 19,
    "start_time": "2022-11-19T15:41:42.004Z"
   },
   {
    "duration": 203,
    "start_time": "2022-11-19T15:44:08.869Z"
   },
   {
    "duration": 22,
    "start_time": "2022-11-19T15:45:04.149Z"
   },
   {
    "duration": 219,
    "start_time": "2022-11-19T15:47:52.734Z"
   },
   {
    "duration": 24,
    "start_time": "2022-11-19T15:48:34.559Z"
   },
   {
    "duration": 73,
    "start_time": "2022-11-19T15:50:44.402Z"
   },
   {
    "duration": 63,
    "start_time": "2022-11-19T15:51:04.429Z"
   },
   {
    "duration": 67,
    "start_time": "2022-11-19T16:00:15.736Z"
   },
   {
    "duration": 441,
    "start_time": "2022-11-19T16:00:31.300Z"
   },
   {
    "duration": 20,
    "start_time": "2022-11-19T16:00:31.743Z"
   },
   {
    "duration": 4,
    "start_time": "2022-11-19T16:00:31.765Z"
   },
   {
    "duration": 11,
    "start_time": "2022-11-19T16:00:31.771Z"
   },
   {
    "duration": 11,
    "start_time": "2022-11-19T16:00:31.784Z"
   },
   {
    "duration": 14,
    "start_time": "2022-11-19T16:00:31.796Z"
   },
   {
    "duration": 12,
    "start_time": "2022-11-19T16:00:31.811Z"
   },
   {
    "duration": 27,
    "start_time": "2022-11-19T16:00:31.824Z"
   },
   {
    "duration": 4,
    "start_time": "2022-11-19T16:00:31.853Z"
   },
   {
    "duration": 17,
    "start_time": "2022-11-19T16:00:31.859Z"
   },
   {
    "duration": 14,
    "start_time": "2022-11-19T16:00:31.877Z"
   },
   {
    "duration": 4,
    "start_time": "2022-11-19T16:00:31.893Z"
   },
   {
    "duration": 14,
    "start_time": "2022-11-19T16:00:31.899Z"
   },
   {
    "duration": 564,
    "start_time": "2022-11-19T16:00:31.917Z"
   },
   {
    "duration": 338,
    "start_time": "2022-11-19T16:00:32.482Z"
   },
   {
    "duration": 274,
    "start_time": "2022-11-19T16:00:32.821Z"
   },
   {
    "duration": 404,
    "start_time": "2022-11-19T16:00:33.097Z"
   },
   {
    "duration": 209,
    "start_time": "2022-11-19T16:00:33.503Z"
   },
   {
    "duration": 236,
    "start_time": "2022-11-19T16:00:33.714Z"
   },
   {
    "duration": 282,
    "start_time": "2022-11-19T16:00:33.953Z"
   },
   {
    "duration": 189,
    "start_time": "2022-11-19T16:00:34.237Z"
   },
   {
    "duration": 198,
    "start_time": "2022-11-19T16:00:34.428Z"
   },
   {
    "duration": 23,
    "start_time": "2022-11-19T16:00:34.628Z"
   },
   {
    "duration": 187,
    "start_time": "2022-11-19T16:00:34.654Z"
   },
   {
    "duration": 20,
    "start_time": "2022-11-19T16:00:34.844Z"
   },
   {
    "duration": 193,
    "start_time": "2022-11-19T16:00:34.865Z"
   },
   {
    "duration": 11,
    "start_time": "2022-11-19T16:00:35.060Z"
   },
   {
    "duration": 223,
    "start_time": "2022-11-19T16:00:35.072Z"
   },
   {
    "duration": 11,
    "start_time": "2022-11-19T16:00:35.298Z"
   },
   {
    "duration": 262,
    "start_time": "2022-11-19T16:00:35.310Z"
   },
   {
    "duration": 311,
    "start_time": "2022-11-19T16:00:35.574Z"
   },
   {
    "duration": 81,
    "start_time": "2022-11-19T16:00:35.887Z"
   },
   {
    "duration": 213,
    "start_time": "2022-11-19T16:00:35.970Z"
   },
   {
    "duration": 19,
    "start_time": "2022-11-19T16:00:36.186Z"
   },
   {
    "duration": 250,
    "start_time": "2022-11-19T16:00:36.207Z"
   },
   {
    "duration": 25,
    "start_time": "2022-11-19T16:00:36.459Z"
   },
   {
    "duration": 68,
    "start_time": "2022-11-19T16:00:36.486Z"
   },
   {
    "duration": 0,
    "start_time": "2022-11-19T16:00:36.556Z"
   },
   {
    "duration": 211,
    "start_time": "2022-11-19T16:01:15.596Z"
   },
   {
    "duration": 240,
    "start_time": "2022-11-19T16:01:33.774Z"
   },
   {
    "duration": 235,
    "start_time": "2022-11-19T16:02:17.654Z"
   },
   {
    "duration": 220,
    "start_time": "2022-11-19T16:03:51.302Z"
   },
   {
    "duration": 214,
    "start_time": "2022-11-19T16:05:06.844Z"
   },
   {
    "duration": 220,
    "start_time": "2022-11-19T16:12:03.106Z"
   },
   {
    "duration": 6,
    "start_time": "2022-11-19T16:12:46.234Z"
   },
   {
    "duration": 47,
    "start_time": "2022-11-20T09:56:24.654Z"
   },
   {
    "duration": 606,
    "start_time": "2022-11-20T09:56:32.184Z"
   },
   {
    "duration": 13,
    "start_time": "2022-11-20T09:56:32.793Z"
   },
   {
    "duration": 11,
    "start_time": "2022-11-20T09:56:32.808Z"
   },
   {
    "duration": 5,
    "start_time": "2022-11-20T09:56:32.821Z"
   },
   {
    "duration": 11,
    "start_time": "2022-11-20T09:56:32.828Z"
   },
   {
    "duration": 16,
    "start_time": "2022-11-20T09:56:32.840Z"
   },
   {
    "duration": 7,
    "start_time": "2022-11-20T09:56:32.857Z"
   },
   {
    "duration": 9,
    "start_time": "2022-11-20T09:56:32.866Z"
   },
   {
    "duration": 6,
    "start_time": "2022-11-20T09:56:32.877Z"
   },
   {
    "duration": 20,
    "start_time": "2022-11-20T09:56:32.884Z"
   },
   {
    "duration": 12,
    "start_time": "2022-11-20T09:56:32.906Z"
   },
   {
    "duration": 4,
    "start_time": "2022-11-20T09:56:32.919Z"
   },
   {
    "duration": 7,
    "start_time": "2022-11-20T09:56:32.925Z"
   },
   {
    "duration": 645,
    "start_time": "2022-11-20T09:56:32.935Z"
   },
   {
    "duration": 309,
    "start_time": "2022-11-20T09:56:33.581Z"
   },
   {
    "duration": 291,
    "start_time": "2022-11-20T09:56:33.891Z"
   },
   {
    "duration": 292,
    "start_time": "2022-11-20T09:56:34.183Z"
   },
   {
    "duration": 181,
    "start_time": "2022-11-20T09:56:34.477Z"
   },
   {
    "duration": 206,
    "start_time": "2022-11-20T09:56:34.659Z"
   },
   {
    "duration": 236,
    "start_time": "2022-11-20T09:56:34.866Z"
   },
   {
    "duration": 180,
    "start_time": "2022-11-20T09:56:35.104Z"
   },
   {
    "duration": 175,
    "start_time": "2022-11-20T09:56:35.286Z"
   },
   {
    "duration": 9,
    "start_time": "2022-11-20T09:56:35.463Z"
   },
   {
    "duration": 181,
    "start_time": "2022-11-20T09:56:35.473Z"
   },
   {
    "duration": 9,
    "start_time": "2022-11-20T09:56:35.656Z"
   },
   {
    "duration": 183,
    "start_time": "2022-11-20T09:56:35.666Z"
   },
   {
    "duration": 9,
    "start_time": "2022-11-20T09:56:35.851Z"
   },
   {
    "duration": 191,
    "start_time": "2022-11-20T09:56:35.861Z"
   },
   {
    "duration": 9,
    "start_time": "2022-11-20T09:56:36.054Z"
   },
   {
    "duration": 307,
    "start_time": "2022-11-20T09:56:36.064Z"
   },
   {
    "duration": 206,
    "start_time": "2022-11-20T09:56:36.373Z"
   },
   {
    "duration": 59,
    "start_time": "2022-11-20T09:56:36.581Z"
   },
   {
    "duration": 202,
    "start_time": "2022-11-20T09:56:36.642Z"
   },
   {
    "duration": 19,
    "start_time": "2022-11-20T09:56:36.846Z"
   },
   {
    "duration": 218,
    "start_time": "2022-11-20T09:56:36.867Z"
   },
   {
    "duration": 25,
    "start_time": "2022-11-20T09:56:37.086Z"
   },
   {
    "duration": 249,
    "start_time": "2022-11-20T09:56:37.113Z"
   },
   {
    "duration": 267,
    "start_time": "2022-11-20T09:56:37.364Z"
   },
   {
    "duration": 203,
    "start_time": "2022-11-20T09:56:37.632Z"
   },
   {
    "duration": 4,
    "start_time": "2022-11-20T09:56:37.837Z"
   },
   {
    "duration": 12,
    "start_time": "2022-11-20T09:56:51.164Z"
   },
   {
    "duration": 8,
    "start_time": "2022-11-20T09:56:53.322Z"
   },
   {
    "duration": 155,
    "start_time": "2022-11-20T09:58:58.539Z"
   },
   {
    "duration": 167,
    "start_time": "2022-11-20T10:03:50.021Z"
   },
   {
    "duration": 150,
    "start_time": "2022-11-20T10:04:53.866Z"
   },
   {
    "duration": 243,
    "start_time": "2022-11-20T10:36:25.717Z"
   },
   {
    "duration": 109,
    "start_time": "2022-11-20T10:36:33.496Z"
   },
   {
    "duration": 106,
    "start_time": "2022-11-20T10:36:56.888Z"
   },
   {
    "duration": 17,
    "start_time": "2022-11-20T10:49:18.747Z"
   },
   {
    "duration": 16,
    "start_time": "2022-11-20T10:49:30.549Z"
   },
   {
    "duration": 17,
    "start_time": "2022-11-20T10:51:36.359Z"
   },
   {
    "duration": 170,
    "start_time": "2022-11-20T10:51:45.290Z"
   },
   {
    "duration": 16,
    "start_time": "2022-11-20T10:52:30.653Z"
   },
   {
    "duration": 165,
    "start_time": "2022-11-20T10:52:45.348Z"
   },
   {
    "duration": 177,
    "start_time": "2022-11-20T10:54:41.676Z"
   },
   {
    "duration": 184,
    "start_time": "2022-11-20T10:55:48.621Z"
   },
   {
    "duration": 141,
    "start_time": "2022-11-20T10:55:58.827Z"
   },
   {
    "duration": 70,
    "start_time": "2022-11-20T11:14:11.319Z"
   },
   {
    "duration": 73,
    "start_time": "2022-11-20T11:15:08.209Z"
   },
   {
    "duration": 539,
    "start_time": "2022-11-20T11:15:28.135Z"
   },
   {
    "duration": 24,
    "start_time": "2022-11-20T11:15:57.829Z"
   },
   {
    "duration": 12,
    "start_time": "2022-11-20T11:17:14.793Z"
   },
   {
    "duration": 12,
    "start_time": "2022-11-20T11:23:51.923Z"
   },
   {
    "duration": 4,
    "start_time": "2022-11-20T12:47:41.766Z"
   },
   {
    "duration": 4,
    "start_time": "2022-11-20T12:48:04.976Z"
   },
   {
    "duration": 5,
    "start_time": "2022-11-20T12:48:17.302Z"
   },
   {
    "duration": 4,
    "start_time": "2022-11-20T12:48:35.255Z"
   },
   {
    "duration": 5,
    "start_time": "2022-11-20T12:49:03.423Z"
   },
   {
    "duration": 4,
    "start_time": "2022-11-20T12:49:05.976Z"
   },
   {
    "duration": 4,
    "start_time": "2022-11-20T12:50:03.222Z"
   },
   {
    "duration": 4,
    "start_time": "2022-11-20T12:50:07.222Z"
   },
   {
    "duration": 23,
    "start_time": "2022-11-20T15:48:30.545Z"
   },
   {
    "duration": 165,
    "start_time": "2022-11-20T15:49:31.689Z"
   },
   {
    "duration": 165,
    "start_time": "2022-11-20T15:50:06.700Z"
   },
   {
    "duration": 183,
    "start_time": "2022-11-20T15:50:39.785Z"
   },
   {
    "duration": 189,
    "start_time": "2022-11-20T15:50:53.475Z"
   },
   {
    "duration": 20,
    "start_time": "2022-11-20T15:53:42.594Z"
   },
   {
    "duration": 21,
    "start_time": "2022-11-20T15:53:50.876Z"
   },
   {
    "duration": 23,
    "start_time": "2022-11-20T15:54:08.378Z"
   },
   {
    "duration": 168,
    "start_time": "2022-11-20T15:54:09.581Z"
   },
   {
    "duration": 17,
    "start_time": "2022-11-20T15:54:17.177Z"
   },
   {
    "duration": 156,
    "start_time": "2022-11-20T15:58:03.600Z"
   },
   {
    "duration": 19,
    "start_time": "2022-11-20T16:02:01.106Z"
   },
   {
    "duration": 22,
    "start_time": "2022-11-20T16:02:35.313Z"
   },
   {
    "duration": 18,
    "start_time": "2022-11-20T16:03:26.869Z"
   },
   {
    "duration": 17,
    "start_time": "2022-11-20T16:03:43.760Z"
   },
   {
    "duration": 23,
    "start_time": "2022-11-20T16:03:57.890Z"
   },
   {
    "duration": 17,
    "start_time": "2022-11-20T16:04:50.411Z"
   },
   {
    "duration": 17,
    "start_time": "2022-11-20T16:05:04.507Z"
   },
   {
    "duration": 15,
    "start_time": "2022-11-20T16:07:05.212Z"
   },
   {
    "duration": 16,
    "start_time": "2022-11-20T16:07:52.890Z"
   },
   {
    "duration": 17,
    "start_time": "2022-11-20T16:24:30.488Z"
   },
   {
    "duration": 17,
    "start_time": "2022-11-20T16:25:28.902Z"
   },
   {
    "duration": 16,
    "start_time": "2022-11-20T16:27:41.026Z"
   },
   {
    "duration": 10,
    "start_time": "2022-11-20T17:00:25.464Z"
   },
   {
    "duration": 5,
    "start_time": "2022-11-20T17:01:41.095Z"
   },
   {
    "duration": 138,
    "start_time": "2022-11-20T17:01:56.679Z"
   },
   {
    "duration": 14,
    "start_time": "2022-11-20T17:01:58.998Z"
   },
   {
    "duration": 4,
    "start_time": "2022-11-20T17:02:05.095Z"
   },
   {
    "duration": 4,
    "start_time": "2022-11-20T17:02:10.184Z"
   },
   {
    "duration": 8,
    "start_time": "2022-11-20T17:02:14.685Z"
   },
   {
    "duration": 13,
    "start_time": "2022-11-20T17:02:24.857Z"
   },
   {
    "duration": 9,
    "start_time": "2022-11-20T17:02:30.261Z"
   },
   {
    "duration": 8,
    "start_time": "2022-11-20T17:02:36.339Z"
   },
   {
    "duration": 6,
    "start_time": "2022-11-20T17:02:39.223Z"
   },
   {
    "duration": 4,
    "start_time": "2022-11-20T17:02:54.094Z"
   },
   {
    "duration": 5,
    "start_time": "2022-11-20T17:02:59.238Z"
   },
   {
    "duration": 7,
    "start_time": "2022-11-20T17:03:02.847Z"
   },
   {
    "duration": 4,
    "start_time": "2022-11-20T17:03:13.214Z"
   },
   {
    "duration": 5,
    "start_time": "2022-11-20T17:04:46.976Z"
   },
   {
    "duration": 232,
    "start_time": "2022-11-20T17:04:59.554Z"
   },
   {
    "duration": 242,
    "start_time": "2022-11-20T17:05:45.865Z"
   },
   {
    "duration": 319,
    "start_time": "2022-11-20T17:17:11.878Z"
   },
   {
    "duration": 207,
    "start_time": "2022-11-20T17:17:29.807Z"
   },
   {
    "duration": 181,
    "start_time": "2022-11-20T17:17:47.951Z"
   },
   {
    "duration": 231,
    "start_time": "2022-11-20T17:18:11.234Z"
   },
   {
    "duration": 253,
    "start_time": "2022-11-20T17:18:30.696Z"
   },
   {
    "duration": 294,
    "start_time": "2022-11-20T17:18:45.239Z"
   },
   {
    "duration": 169,
    "start_time": "2022-11-20T17:28:15.568Z"
   },
   {
    "duration": 61,
    "start_time": "2022-11-21T15:27:50.282Z"
   },
   {
    "duration": 504,
    "start_time": "2022-11-21T15:28:45.390Z"
   },
   {
    "duration": 16,
    "start_time": "2022-11-21T15:28:45.896Z"
   },
   {
    "duration": 8,
    "start_time": "2022-11-21T15:28:45.914Z"
   },
   {
    "duration": 20,
    "start_time": "2022-11-21T15:28:45.924Z"
   },
   {
    "duration": 23,
    "start_time": "2022-11-21T15:28:45.946Z"
   },
   {
    "duration": 30,
    "start_time": "2022-11-21T15:28:45.971Z"
   },
   {
    "duration": 10,
    "start_time": "2022-11-21T15:28:46.002Z"
   },
   {
    "duration": 20,
    "start_time": "2022-11-21T15:28:46.014Z"
   },
   {
    "duration": 10,
    "start_time": "2022-11-21T15:28:46.035Z"
   },
   {
    "duration": 21,
    "start_time": "2022-11-21T15:28:46.049Z"
   },
   {
    "duration": 13,
    "start_time": "2022-11-21T15:28:46.072Z"
   },
   {
    "duration": 15,
    "start_time": "2022-11-21T15:28:46.087Z"
   },
   {
    "duration": 4,
    "start_time": "2022-11-21T15:28:46.104Z"
   },
   {
    "duration": 6,
    "start_time": "2022-11-21T15:28:46.110Z"
   },
   {
    "duration": 681,
    "start_time": "2022-11-21T15:28:46.117Z"
   },
   {
    "duration": 401,
    "start_time": "2022-11-21T15:28:46.801Z"
   },
   {
    "duration": 332,
    "start_time": "2022-11-21T15:28:47.204Z"
   },
   {
    "duration": 361,
    "start_time": "2022-11-21T15:28:47.538Z"
   },
   {
    "duration": 240,
    "start_time": "2022-11-21T15:28:47.900Z"
   },
   {
    "duration": 235,
    "start_time": "2022-11-21T15:28:48.143Z"
   },
   {
    "duration": 252,
    "start_time": "2022-11-21T15:28:48.381Z"
   },
   {
    "duration": 198,
    "start_time": "2022-11-21T15:28:48.635Z"
   },
   {
    "duration": 220,
    "start_time": "2022-11-21T15:28:48.835Z"
   },
   {
    "duration": 12,
    "start_time": "2022-11-21T15:28:49.057Z"
   },
   {
    "duration": 235,
    "start_time": "2022-11-21T15:28:49.071Z"
   },
   {
    "duration": 10,
    "start_time": "2022-11-21T15:28:49.308Z"
   },
   {
    "duration": 206,
    "start_time": "2022-11-21T15:28:49.319Z"
   },
   {
    "duration": 10,
    "start_time": "2022-11-21T15:28:49.529Z"
   },
   {
    "duration": 289,
    "start_time": "2022-11-21T15:28:49.554Z"
   },
   {
    "duration": 15,
    "start_time": "2022-11-21T15:28:49.845Z"
   },
   {
    "duration": 330,
    "start_time": "2022-11-21T15:28:49.862Z"
   },
   {
    "duration": 234,
    "start_time": "2022-11-21T15:28:50.194Z"
   },
   {
    "duration": 63,
    "start_time": "2022-11-21T15:28:50.430Z"
   },
   {
    "duration": 217,
    "start_time": "2022-11-21T15:28:50.495Z"
   },
   {
    "duration": 20,
    "start_time": "2022-11-21T15:28:50.714Z"
   },
   {
    "duration": 270,
    "start_time": "2022-11-21T15:28:50.736Z"
   },
   {
    "duration": 20,
    "start_time": "2022-11-21T15:28:51.008Z"
   },
   {
    "duration": 253,
    "start_time": "2022-11-21T15:28:51.030Z"
   },
   {
    "duration": 258,
    "start_time": "2022-11-21T15:28:51.284Z"
   },
   {
    "duration": 253,
    "start_time": "2022-11-21T15:28:51.544Z"
   },
   {
    "duration": 199,
    "start_time": "2022-11-21T15:28:51.798Z"
   },
   {
    "duration": 21,
    "start_time": "2022-11-21T15:28:51.999Z"
   },
   {
    "duration": 214,
    "start_time": "2022-11-21T15:28:52.022Z"
   },
   {
    "duration": 25,
    "start_time": "2022-11-21T15:28:52.239Z"
   },
   {
    "duration": 190,
    "start_time": "2022-11-21T15:28:52.266Z"
   },
   {
    "duration": 19,
    "start_time": "2022-11-21T15:28:52.458Z"
   },
   {
    "duration": 547,
    "start_time": "2022-11-21T15:28:52.479Z"
   },
   {
    "duration": 16,
    "start_time": "2022-11-21T15:28:53.028Z"
   },
   {
    "duration": 4,
    "start_time": "2022-11-21T15:30:27.219Z"
   },
   {
    "duration": 4,
    "start_time": "2022-11-21T15:30:31.766Z"
   },
   {
    "duration": 6,
    "start_time": "2022-11-21T15:38:24.063Z"
   },
   {
    "duration": 22,
    "start_time": "2022-11-21T15:38:25.775Z"
   },
   {
    "duration": 8,
    "start_time": "2022-11-21T15:40:21.757Z"
   },
   {
    "duration": 5,
    "start_time": "2022-11-21T15:41:03.768Z"
   },
   {
    "duration": 34,
    "start_time": "2022-11-21T15:41:13.546Z"
   },
   {
    "duration": 6,
    "start_time": "2022-11-21T15:41:58.497Z"
   },
   {
    "duration": 50,
    "start_time": "2022-11-21T16:03:36.965Z"
   },
   {
    "duration": 49,
    "start_time": "2022-11-21T16:03:57.189Z"
   },
   {
    "duration": 210,
    "start_time": "2022-11-21T16:04:04.557Z"
   },
   {
    "duration": 62,
    "start_time": "2022-11-21T16:04:12.365Z"
   },
   {
    "duration": 25,
    "start_time": "2022-11-21T16:04:14.708Z"
   },
   {
    "duration": 4,
    "start_time": "2022-11-21T16:04:19.978Z"
   },
   {
    "duration": 5,
    "start_time": "2022-11-21T16:04:22.836Z"
   },
   {
    "duration": 9,
    "start_time": "2022-11-21T16:04:25.323Z"
   },
   {
    "duration": 16,
    "start_time": "2022-11-21T16:04:31.407Z"
   },
   {
    "duration": 9,
    "start_time": "2022-11-21T16:04:34.356Z"
   },
   {
    "duration": 7,
    "start_time": "2022-11-21T16:04:37.785Z"
   },
   {
    "duration": 5,
    "start_time": "2022-11-21T16:04:42.765Z"
   },
   {
    "duration": 5,
    "start_time": "2022-11-21T16:04:46.245Z"
   },
   {
    "duration": 8,
    "start_time": "2022-11-21T16:04:51.454Z"
   },
   {
    "duration": 20,
    "start_time": "2022-11-21T16:04:54.645Z"
   },
   {
    "duration": 5,
    "start_time": "2022-11-21T16:04:58.587Z"
   },
   {
    "duration": 7,
    "start_time": "2022-11-21T16:05:01.541Z"
   },
   {
    "duration": 202,
    "start_time": "2022-11-21T16:05:05.548Z"
   },
   {
    "duration": 332,
    "start_time": "2022-11-21T16:05:15.912Z"
   },
   {
    "duration": 221,
    "start_time": "2022-11-21T16:05:21.799Z"
   },
   {
    "duration": 232,
    "start_time": "2022-11-21T16:05:25.709Z"
   },
   {
    "duration": 21,
    "start_time": "2022-11-21T16:05:32.718Z"
   },
   {
    "duration": 22,
    "start_time": "2022-11-21T16:05:50.445Z"
   },
   {
    "duration": 474,
    "start_time": "2022-11-21T16:06:00.704Z"
   },
   {
    "duration": 17,
    "start_time": "2022-11-21T16:06:01.180Z"
   },
   {
    "duration": 9,
    "start_time": "2022-11-21T16:06:01.200Z"
   },
   {
    "duration": 13,
    "start_time": "2022-11-21T16:06:01.211Z"
   },
   {
    "duration": 33,
    "start_time": "2022-11-21T16:06:01.227Z"
   },
   {
    "duration": 24,
    "start_time": "2022-11-21T16:06:01.261Z"
   },
   {
    "duration": 14,
    "start_time": "2022-11-21T16:06:01.287Z"
   },
   {
    "duration": 25,
    "start_time": "2022-11-21T16:06:01.303Z"
   },
   {
    "duration": 9,
    "start_time": "2022-11-21T16:06:01.330Z"
   },
   {
    "duration": 15,
    "start_time": "2022-11-21T16:06:01.341Z"
   },
   {
    "duration": 20,
    "start_time": "2022-11-21T16:06:01.358Z"
   },
   {
    "duration": 25,
    "start_time": "2022-11-21T16:06:01.380Z"
   },
   {
    "duration": 5,
    "start_time": "2022-11-21T16:06:01.407Z"
   },
   {
    "duration": 14,
    "start_time": "2022-11-21T16:06:01.417Z"
   },
   {
    "duration": 509,
    "start_time": "2022-11-21T16:06:01.433Z"
   },
   {
    "duration": 364,
    "start_time": "2022-11-21T16:06:01.944Z"
   },
   {
    "duration": 232,
    "start_time": "2022-11-21T16:06:02.310Z"
   },
   {
    "duration": 293,
    "start_time": "2022-11-21T16:06:02.544Z"
   },
   {
    "duration": 129,
    "start_time": "2022-11-21T16:06:02.839Z"
   },
   {
    "duration": 0,
    "start_time": "2022-11-21T16:06:02.970Z"
   },
   {
    "duration": 0,
    "start_time": "2022-11-21T16:06:02.971Z"
   },
   {
    "duration": 0,
    "start_time": "2022-11-21T16:06:02.972Z"
   },
   {
    "duration": 0,
    "start_time": "2022-11-21T16:06:02.974Z"
   },
   {
    "duration": 0,
    "start_time": "2022-11-21T16:06:02.975Z"
   },
   {
    "duration": 0,
    "start_time": "2022-11-21T16:06:02.976Z"
   },
   {
    "duration": 0,
    "start_time": "2022-11-21T16:06:02.978Z"
   },
   {
    "duration": 0,
    "start_time": "2022-11-21T16:06:02.979Z"
   },
   {
    "duration": 0,
    "start_time": "2022-11-21T16:06:02.980Z"
   },
   {
    "duration": 0,
    "start_time": "2022-11-21T16:06:02.982Z"
   },
   {
    "duration": 0,
    "start_time": "2022-11-21T16:06:02.984Z"
   },
   {
    "duration": 0,
    "start_time": "2022-11-21T16:06:02.985Z"
   },
   {
    "duration": 0,
    "start_time": "2022-11-21T16:06:02.986Z"
   },
   {
    "duration": 0,
    "start_time": "2022-11-21T16:06:02.987Z"
   },
   {
    "duration": 0,
    "start_time": "2022-11-21T16:06:02.988Z"
   },
   {
    "duration": 0,
    "start_time": "2022-11-21T16:06:02.989Z"
   },
   {
    "duration": 0,
    "start_time": "2022-11-21T16:06:02.991Z"
   },
   {
    "duration": 0,
    "start_time": "2022-11-21T16:06:02.992Z"
   },
   {
    "duration": 0,
    "start_time": "2022-11-21T16:06:02.993Z"
   },
   {
    "duration": 0,
    "start_time": "2022-11-21T16:06:02.994Z"
   },
   {
    "duration": 0,
    "start_time": "2022-11-21T16:06:02.995Z"
   },
   {
    "duration": 0,
    "start_time": "2022-11-21T16:06:02.996Z"
   },
   {
    "duration": 0,
    "start_time": "2022-11-21T16:06:02.996Z"
   },
   {
    "duration": 0,
    "start_time": "2022-11-21T16:06:02.997Z"
   },
   {
    "duration": 0,
    "start_time": "2022-11-21T16:06:02.998Z"
   },
   {
    "duration": 0,
    "start_time": "2022-11-21T16:06:02.999Z"
   },
   {
    "duration": 0,
    "start_time": "2022-11-21T16:06:03.001Z"
   },
   {
    "duration": 0,
    "start_time": "2022-11-21T16:06:03.055Z"
   },
   {
    "duration": 0,
    "start_time": "2022-11-21T16:06:03.057Z"
   },
   {
    "duration": 21,
    "start_time": "2022-11-21T16:06:56.658Z"
   },
   {
    "duration": 21,
    "start_time": "2022-11-21T16:07:14.337Z"
   },
   {
    "duration": 21,
    "start_time": "2022-11-21T16:07:30.300Z"
   },
   {
    "duration": 25,
    "start_time": "2022-11-21T16:07:39.479Z"
   },
   {
    "duration": 186,
    "start_time": "2022-11-21T16:08:15.037Z"
   },
   {
    "duration": 342,
    "start_time": "2022-11-21T16:08:22.318Z"
   },
   {
    "duration": 6,
    "start_time": "2022-11-21T16:09:05.191Z"
   },
   {
    "duration": 14,
    "start_time": "2022-11-21T16:09:08.759Z"
   },
   {
    "duration": 489,
    "start_time": "2022-11-21T16:09:26.201Z"
   },
   {
    "duration": 15,
    "start_time": "2022-11-21T16:09:26.692Z"
   },
   {
    "duration": 3,
    "start_time": "2022-11-21T16:09:26.709Z"
   },
   {
    "duration": 11,
    "start_time": "2022-11-21T16:09:26.713Z"
   },
   {
    "duration": 33,
    "start_time": "2022-11-21T16:09:26.725Z"
   },
   {
    "duration": 15,
    "start_time": "2022-11-21T16:09:26.760Z"
   },
   {
    "duration": 9,
    "start_time": "2022-11-21T16:09:26.777Z"
   },
   {
    "duration": 9,
    "start_time": "2022-11-21T16:09:26.788Z"
   },
   {
    "duration": 20,
    "start_time": "2022-11-21T16:09:26.798Z"
   },
   {
    "duration": 12,
    "start_time": "2022-11-21T16:09:26.821Z"
   },
   {
    "duration": 28,
    "start_time": "2022-11-21T16:09:26.835Z"
   },
   {
    "duration": 29,
    "start_time": "2022-11-21T16:09:26.866Z"
   },
   {
    "duration": 13,
    "start_time": "2022-11-21T16:09:26.897Z"
   },
   {
    "duration": 14,
    "start_time": "2022-11-21T16:09:26.913Z"
   },
   {
    "duration": 540,
    "start_time": "2022-11-21T16:09:26.928Z"
   },
   {
    "duration": 337,
    "start_time": "2022-11-21T16:09:27.470Z"
   },
   {
    "duration": 260,
    "start_time": "2022-11-21T16:09:27.809Z"
   },
   {
    "duration": 448,
    "start_time": "2022-11-21T16:09:28.071Z"
   },
   {
    "duration": 233,
    "start_time": "2022-11-21T16:09:28.522Z"
   },
   {
    "duration": 238,
    "start_time": "2022-11-21T16:09:28.757Z"
   },
   {
    "duration": 258,
    "start_time": "2022-11-21T16:09:28.997Z"
   },
   {
    "duration": 212,
    "start_time": "2022-11-21T16:09:29.257Z"
   },
   {
    "duration": 206,
    "start_time": "2022-11-21T16:09:29.471Z"
   },
   {
    "duration": 11,
    "start_time": "2022-11-21T16:09:29.679Z"
   },
   {
    "duration": 211,
    "start_time": "2022-11-21T16:09:29.691Z"
   },
   {
    "duration": 10,
    "start_time": "2022-11-21T16:09:29.904Z"
   },
   {
    "duration": 225,
    "start_time": "2022-11-21T16:09:29.916Z"
   },
   {
    "duration": 19,
    "start_time": "2022-11-21T16:09:30.145Z"
   },
   {
    "duration": 207,
    "start_time": "2022-11-21T16:09:30.166Z"
   },
   {
    "duration": 12,
    "start_time": "2022-11-21T16:09:30.375Z"
   },
   {
    "duration": 274,
    "start_time": "2022-11-21T16:09:30.388Z"
   },
   {
    "duration": 334,
    "start_time": "2022-11-21T16:09:30.664Z"
   },
   {
    "duration": 71,
    "start_time": "2022-11-21T16:09:31.000Z"
   },
   {
    "duration": 240,
    "start_time": "2022-11-21T16:09:31.074Z"
   },
   {
    "duration": 20,
    "start_time": "2022-11-21T16:09:31.316Z"
   },
   {
    "duration": 237,
    "start_time": "2022-11-21T16:09:31.338Z"
   },
   {
    "duration": 21,
    "start_time": "2022-11-21T16:09:31.577Z"
   },
   {
    "duration": 263,
    "start_time": "2022-11-21T16:09:31.600Z"
   },
   {
    "duration": 247,
    "start_time": "2022-11-21T16:09:31.865Z"
   },
   {
    "duration": 238,
    "start_time": "2022-11-21T16:09:32.114Z"
   },
   {
    "duration": 195,
    "start_time": "2022-11-21T16:09:32.355Z"
   },
   {
    "duration": 24,
    "start_time": "2022-11-21T16:09:32.552Z"
   },
   {
    "duration": 218,
    "start_time": "2022-11-21T16:09:32.578Z"
   },
   {
    "duration": 18,
    "start_time": "2022-11-21T16:09:32.798Z"
   },
   {
    "duration": 201,
    "start_time": "2022-11-21T16:09:32.819Z"
   },
   {
    "duration": 17,
    "start_time": "2022-11-21T16:09:33.022Z"
   },
   {
    "duration": 534,
    "start_time": "2022-11-21T16:09:33.056Z"
   },
   {
    "duration": 15,
    "start_time": "2022-11-21T16:09:33.591Z"
   },
   {
    "duration": 49,
    "start_time": "2022-11-21T16:22:17.382Z"
   },
   {
    "duration": 244,
    "start_time": "2022-11-21T16:22:40.989Z"
   },
   {
    "duration": 24,
    "start_time": "2022-11-21T16:26:34.596Z"
   },
   {
    "duration": 23,
    "start_time": "2022-11-21T16:27:10.070Z"
   },
   {
    "duration": 51,
    "start_time": "2022-11-21T16:27:57.209Z"
   },
   {
    "duration": 250,
    "start_time": "2022-11-21T16:28:09.086Z"
   },
   {
    "duration": 132,
    "start_time": "2022-11-21T16:29:36.820Z"
   },
   {
    "duration": 314,
    "start_time": "2022-11-21T16:29:45.041Z"
   },
   {
    "duration": 351,
    "start_time": "2022-11-21T16:29:58.646Z"
   },
   {
    "duration": 49,
    "start_time": "2022-11-21T17:40:45.888Z"
   },
   {
    "duration": 229,
    "start_time": "2022-11-21T17:44:55.204Z"
   },
   {
    "duration": 79,
    "start_time": "2022-11-21T18:11:12.636Z"
   }
  ],
  "kernelspec": {
   "display_name": "Python 3 (ipykernel)",
   "language": "python",
   "name": "python3"
  },
  "language_info": {
   "codemirror_mode": {
    "name": "ipython",
    "version": 3
   },
   "file_extension": ".py",
   "mimetype": "text/x-python",
   "name": "python",
   "nbconvert_exporter": "python",
   "pygments_lexer": "ipython3",
   "version": "3.9.13"
  },
  "toc": {
   "base_numbering": 1,
   "nav_menu": {},
   "number_sections": true,
   "sideBar": true,
   "skip_h1_title": true,
   "title_cell": "Table of Contents",
   "title_sidebar": "Contents",
   "toc_cell": false,
   "toc_position": {},
   "toc_section_display": true,
   "toc_window_display": false
  }
 },
 "nbformat": 4,
 "nbformat_minor": 2
}
